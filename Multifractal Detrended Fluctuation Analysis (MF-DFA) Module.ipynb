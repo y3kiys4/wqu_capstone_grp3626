{
 "cells": [
  {
   "cell_type": "markdown",
   "id": "6c0e7498",
   "metadata": {},
   "source": [
    "# Multifractal Detrended Fluctuation Analysis (MF-DFA) Module"
   ]
  },
  {
   "cell_type": "code",
   "execution_count": 1,
   "id": "46de6324",
   "metadata": {},
   "outputs": [],
   "source": [
    "import array\n",
    "import pandas as pd\n",
    "import numpy as np\n",
    "import matplotlib.pyplot as plt\n",
    "from scipy import signal"
   ]
  },
  {
   "cell_type": "markdown",
   "id": "30f8172c",
   "metadata": {},
   "source": [
    "## 1. Convert to mean-centered cumulative sum (MCS)"
   ]
  },
  {
   "cell_type": "code",
   "execution_count": 2,
   "id": "91996ca8",
   "metadata": {
    "scrolled": true
   },
   "outputs": [
    {
     "name": "stderr",
     "output_type": "stream",
     "text": [
      "C:\\Users\\cutef\\AppData\\Local\\Temp\\ipykernel_10908\\374198705.py:18: SettingWithCopyWarning: \n",
      "A value is trying to be set on a copy of a slice from a DataFrame.\n",
      "Try using .loc[row_indexer,col_indexer] = value instead\n",
      "\n",
      "See the caveats in the documentation: https://pandas.pydata.org/pandas-docs/stable/user_guide/indexing.html#returning-a-view-versus-a-copy\n",
      "  df_1min['log_ret_sq'] = np.square(df_1min['log_ret'])\n"
     ]
    },
    {
     "data": {
      "text/html": [
       "<div>\n",
       "<style scoped>\n",
       "    .dataframe tbody tr th:only-of-type {\n",
       "        vertical-align: middle;\n",
       "    }\n",
       "\n",
       "    .dataframe tbody tr th {\n",
       "        vertical-align: top;\n",
       "    }\n",
       "\n",
       "    .dataframe thead th {\n",
       "        text-align: right;\n",
       "    }\n",
       "</style>\n",
       "<table border=\"1\" class=\"dataframe\">\n",
       "  <thead>\n",
       "    <tr style=\"text-align: right;\">\n",
       "      <th></th>\n",
       "      <th>Price</th>\n",
       "      <th>log_ret</th>\n",
       "      <th>deltaT</th>\n",
       "      <th>log_ret_sq</th>\n",
       "    </tr>\n",
       "    <tr>\n",
       "      <th>Time</th>\n",
       "      <th></th>\n",
       "      <th></th>\n",
       "      <th></th>\n",
       "      <th></th>\n",
       "    </tr>\n",
       "  </thead>\n",
       "  <tbody>\n",
       "    <tr>\n",
       "      <th>2020-12-01 00:01:00</th>\n",
       "      <td>3654.045</td>\n",
       "      <td>1.932292</td>\n",
       "      <td>1.0</td>\n",
       "      <td>3.733753</td>\n",
       "    </tr>\n",
       "    <tr>\n",
       "      <th>2020-12-01 00:02:00</th>\n",
       "      <td>3654.336</td>\n",
       "      <td>0.796346</td>\n",
       "      <td>1.0</td>\n",
       "      <td>0.634167</td>\n",
       "    </tr>\n",
       "    <tr>\n",
       "      <th>2020-12-01 00:03:00</th>\n",
       "      <td>3653.945</td>\n",
       "      <td>-1.070019</td>\n",
       "      <td>1.0</td>\n",
       "      <td>1.144941</td>\n",
       "    </tr>\n",
       "    <tr>\n",
       "      <th>2020-12-01 00:04:00</th>\n",
       "      <td>3653.845</td>\n",
       "      <td>-0.273681</td>\n",
       "      <td>1.0</td>\n",
       "      <td>0.074901</td>\n",
       "    </tr>\n",
       "    <tr>\n",
       "      <th>2020-12-01 00:05:00</th>\n",
       "      <td>3653.299</td>\n",
       "      <td>-1.494428</td>\n",
       "      <td>1.0</td>\n",
       "      <td>2.233315</td>\n",
       "    </tr>\n",
       "    <tr>\n",
       "      <th>...</th>\n",
       "      <td>...</td>\n",
       "      <td>...</td>\n",
       "      <td>...</td>\n",
       "      <td>...</td>\n",
       "    </tr>\n",
       "    <tr>\n",
       "      <th>2023-06-30 16:09:00</th>\n",
       "      <td>4446.311</td>\n",
       "      <td>-1.171689</td>\n",
       "      <td>1.0</td>\n",
       "      <td>1.372856</td>\n",
       "    </tr>\n",
       "    <tr>\n",
       "      <th>2023-06-30 16:10:00</th>\n",
       "      <td>4445.570</td>\n",
       "      <td>-1.666689</td>\n",
       "      <td>1.0</td>\n",
       "      <td>2.777852</td>\n",
       "    </tr>\n",
       "    <tr>\n",
       "      <th>2023-06-30 16:11:00</th>\n",
       "      <td>4445.332</td>\n",
       "      <td>-0.535379</td>\n",
       "      <td>1.0</td>\n",
       "      <td>0.286630</td>\n",
       "    </tr>\n",
       "    <tr>\n",
       "      <th>2023-06-30 16:12:00</th>\n",
       "      <td>4445.320</td>\n",
       "      <td>-0.026995</td>\n",
       "      <td>1.0</td>\n",
       "      <td>0.000729</td>\n",
       "    </tr>\n",
       "    <tr>\n",
       "      <th>2023-06-30 16:13:00</th>\n",
       "      <td>4444.823</td>\n",
       "      <td>-1.118092</td>\n",
       "      <td>1.0</td>\n",
       "      <td>1.250130</td>\n",
       "    </tr>\n",
       "  </tbody>\n",
       "</table>\n",
       "<p>824645 rows × 4 columns</p>\n",
       "</div>"
      ],
      "text/plain": [
       "                        Price   log_ret  deltaT  log_ret_sq\n",
       "Time                                                       \n",
       "2020-12-01 00:01:00  3654.045  1.932292     1.0    3.733753\n",
       "2020-12-01 00:02:00  3654.336  0.796346     1.0    0.634167\n",
       "2020-12-01 00:03:00  3653.945 -1.070019     1.0    1.144941\n",
       "2020-12-01 00:04:00  3653.845 -0.273681     1.0    0.074901\n",
       "2020-12-01 00:05:00  3653.299 -1.494428     1.0    2.233315\n",
       "...                       ...       ...     ...         ...\n",
       "2023-06-30 16:09:00  4446.311 -1.171689     1.0    1.372856\n",
       "2023-06-30 16:10:00  4445.570 -1.666689     1.0    2.777852\n",
       "2023-06-30 16:11:00  4445.332 -0.535379     1.0    0.286630\n",
       "2023-06-30 16:12:00  4445.320 -0.026995     1.0    0.000729\n",
       "2023-06-30 16:13:00  4444.823 -1.118092     1.0    1.250130\n",
       "\n",
       "[824645 rows x 4 columns]"
      ]
     },
     "execution_count": 2,
     "metadata": {},
     "output_type": "execute_result"
    }
   ],
   "source": [
    "files = 'https://raw.githubusercontent.com/y3kiys4/wqu_capstone_june2023_grp3626/main/SPX_1m_Dec2020_Jun2023.csv'\n",
    "\n",
    "df = pd.read_csv(files)\n",
    "# Set timestamp as index\n",
    "df = df.set_index(df['Time'])\n",
    "df.drop(['Time'], axis=1, inplace=True)\n",
    "df.index = pd.to_datetime(df.index)\n",
    "\n",
    "# Calculate log return\n",
    "df['log_ret'] = 10000 * np.log(df.Price).diff() # 10,000 times log return\n",
    "\n",
    "# Calculate the time difference in mininutes\n",
    "df['deltaT'] = (df.index.to_series().diff().dt.days.mul(60*24, fill_value=0) +\n",
    "                df.index.to_series().diff().dt.seconds.div(60, fill_value=0)\n",
    "               )\n",
    "\n",
    "df_1min = df[df['deltaT'] == 1]\n",
    "df_1min['log_ret_sq'] = np.square(df_1min['log_ret'])\n",
    "df_1min"
   ]
  },
  {
   "cell_type": "code",
   "execution_count": 3,
   "id": "e2147727",
   "metadata": {},
   "outputs": [
    {
     "data": {
      "text/plain": [
       "<AxesSubplot:xlabel='Time'>"
      ]
     },
     "execution_count": 3,
     "metadata": {},
     "output_type": "execute_result"
    },
    {
     "data": {
      "image/png": "[encoded data removed]",
      "text/plain": [
       "<Figure size 640x480 with 1 Axes>"
      ]
     },
     "metadata": {},
     "output_type": "display_data"
    }
   ],
   "source": [
    "n_sample = 60 * 24 * 100\n",
    "\n",
    "mcs = pd.DataFrame(df_1min['log_ret_sq'][:n_sample], columns = ['log_ret_sq'])\n",
    "mcs['mean'] = [mcs['log_ret_sq'].mean()] * n_sample\n",
    "mcs['mean_centered'] = mcs['log_ret_sq'] - mcs['mean']\n",
    "mcs['mean_centered_cum_sum'] = mcs['mean_centered']\n",
    "mcs['mean_centered_cum_sum'] = mcs['mean_centered_cum_sum'].cumsum()\n",
    "\n",
    "mcs['log_ret_sq'].plot()\n",
    "mcs['mean_centered_cum_sum'].plot()"
   ]
  },
  {
   "cell_type": "code",
   "execution_count": 15,
   "id": "fa398c35",
   "metadata": {},
   "outputs": [
    {
     "data": {
      "text/html": [
       "<div>\n",
       "<style scoped>\n",
       "    .dataframe tbody tr th:only-of-type {\n",
       "        vertical-align: middle;\n",
       "    }\n",
       "\n",
       "    .dataframe tbody tr th {\n",
       "        vertical-align: top;\n",
       "    }\n",
       "\n",
       "    .dataframe thead th {\n",
       "        text-align: right;\n",
       "    }\n",
       "</style>\n",
       "<table border=\"1\" class=\"dataframe\">\n",
       "  <thead>\n",
       "    <tr style=\"text-align: right;\">\n",
       "      <th></th>\n",
       "      <th>log_ret_sq</th>\n",
       "      <th>mean</th>\n",
       "      <th>mean_centered</th>\n",
       "      <th>mean_centered_cum_sum</th>\n",
       "    </tr>\n",
       "    <tr>\n",
       "      <th>Time</th>\n",
       "      <th></th>\n",
       "      <th></th>\n",
       "      <th></th>\n",
       "      <th></th>\n",
       "    </tr>\n",
       "  </thead>\n",
       "  <tbody>\n",
       "    <tr>\n",
       "      <th>2020-12-01 00:01:00</th>\n",
       "      <td>3.733753</td>\n",
       "      <td>6.480652</td>\n",
       "      <td>-2.746899</td>\n",
       "      <td>-2.746899e+00</td>\n",
       "    </tr>\n",
       "    <tr>\n",
       "      <th>2020-12-01 00:02:00</th>\n",
       "      <td>0.634167</td>\n",
       "      <td>6.480652</td>\n",
       "      <td>-5.846485</td>\n",
       "      <td>-8.593384e+00</td>\n",
       "    </tr>\n",
       "    <tr>\n",
       "      <th>2020-12-01 00:03:00</th>\n",
       "      <td>1.144941</td>\n",
       "      <td>6.480652</td>\n",
       "      <td>-5.335711</td>\n",
       "      <td>-1.392909e+01</td>\n",
       "    </tr>\n",
       "    <tr>\n",
       "      <th>2020-12-01 00:04:00</th>\n",
       "      <td>0.074901</td>\n",
       "      <td>6.480652</td>\n",
       "      <td>-6.405751</td>\n",
       "      <td>-2.033485e+01</td>\n",
       "    </tr>\n",
       "    <tr>\n",
       "      <th>2020-12-01 00:05:00</th>\n",
       "      <td>2.233315</td>\n",
       "      <td>6.480652</td>\n",
       "      <td>-4.247337</td>\n",
       "      <td>-2.458218e+01</td>\n",
       "    </tr>\n",
       "    <tr>\n",
       "      <th>...</th>\n",
       "      <td>...</td>\n",
       "      <td>...</td>\n",
       "      <td>...</td>\n",
       "      <td>...</td>\n",
       "    </tr>\n",
       "    <tr>\n",
       "      <th>2021-05-11 15:56:00</th>\n",
       "      <td>105.736477</td>\n",
       "      <td>6.480652</td>\n",
       "      <td>99.255825</td>\n",
       "      <td>-7.985719e+01</td>\n",
       "    </tr>\n",
       "    <tr>\n",
       "      <th>2021-05-11 15:57:00</th>\n",
       "      <td>0.359840</td>\n",
       "      <td>6.480652</td>\n",
       "      <td>-6.120812</td>\n",
       "      <td>-8.597800e+01</td>\n",
       "    </tr>\n",
       "    <tr>\n",
       "      <th>2021-05-11 15:58:00</th>\n",
       "      <td>2.746562</td>\n",
       "      <td>6.480652</td>\n",
       "      <td>-3.734090</td>\n",
       "      <td>-8.971209e+01</td>\n",
       "    </tr>\n",
       "    <tr>\n",
       "      <th>2021-05-11 15:59:00</th>\n",
       "      <td>0.000209</td>\n",
       "      <td>6.480652</td>\n",
       "      <td>-6.480443</td>\n",
       "      <td>-9.619253e+01</td>\n",
       "    </tr>\n",
       "    <tr>\n",
       "      <th>2021-05-11 16:00:00</th>\n",
       "      <td>102.673186</td>\n",
       "      <td>6.480652</td>\n",
       "      <td>96.192534</td>\n",
       "      <td>2.813039e-09</td>\n",
       "    </tr>\n",
       "  </tbody>\n",
       "</table>\n",
       "<p>144000 rows × 4 columns</p>\n",
       "</div>"
      ],
      "text/plain": [
       "                     log_ret_sq      mean  mean_centered  \\\n",
       "Time                                                       \n",
       "2020-12-01 00:01:00    3.733753  6.480652      -2.746899   \n",
       "2020-12-01 00:02:00    0.634167  6.480652      -5.846485   \n",
       "2020-12-01 00:03:00    1.144941  6.480652      -5.335711   \n",
       "2020-12-01 00:04:00    0.074901  6.480652      -6.405751   \n",
       "2020-12-01 00:05:00    2.233315  6.480652      -4.247337   \n",
       "...                         ...       ...            ...   \n",
       "2021-05-11 15:56:00  105.736477  6.480652      99.255825   \n",
       "2021-05-11 15:57:00    0.359840  6.480652      -6.120812   \n",
       "2021-05-11 15:58:00    2.746562  6.480652      -3.734090   \n",
       "2021-05-11 15:59:00    0.000209  6.480652      -6.480443   \n",
       "2021-05-11 16:00:00  102.673186  6.480652      96.192534   \n",
       "\n",
       "                     mean_centered_cum_sum  \n",
       "Time                                        \n",
       "2020-12-01 00:01:00          -2.746899e+00  \n",
       "2020-12-01 00:02:00          -8.593384e+00  \n",
       "2020-12-01 00:03:00          -1.392909e+01  \n",
       "2020-12-01 00:04:00          -2.033485e+01  \n",
       "2020-12-01 00:05:00          -2.458218e+01  \n",
       "...                                    ...  \n",
       "2021-05-11 15:56:00          -7.985719e+01  \n",
       "2021-05-11 15:57:00          -8.597800e+01  \n",
       "2021-05-11 15:58:00          -8.971209e+01  \n",
       "2021-05-11 15:59:00          -9.619253e+01  \n",
       "2021-05-11 16:00:00           2.813039e-09  \n",
       "\n",
       "[144000 rows x 4 columns]"
      ]
     },
     "execution_count": 15,
     "metadata": {},
     "output_type": "execute_result"
    }
   ],
   "source": [
    "mcs"
   ]
  },
  {
   "cell_type": "markdown",
   "id": "09f41d75",
   "metadata": {},
   "source": [
    "## 2. Define log-spaced 'scales'"
   ]
  },
  {
   "cell_type": "code",
   "execution_count": 16,
   "id": "c5dfa0b4",
   "metadata": {
    "scrolled": false
   },
   "outputs": [
    {
     "data": {
      "image/png": "[encoded data removed]",
      "text/plain": [
       "<Figure size 640x480 with 1 Axes>"
      ]
     },
     "metadata": {},
     "output_type": "display_data"
    }
   ],
   "source": [
    "scales_min = int(10)\n",
    "scales_max = int(n_sample / scales_min)\n",
    "scales = np.array([i for i in range(3, scales_max+1)])\n",
    "n_epochs = np.divide(n_sample, scales).astype(int)\n",
    "n_scales = len(scales)\n",
    "log_scales = np.log(scales)\n",
    "\n",
    "plt.plot(range(1, n_scales+1), log_scales)\n",
    "plt.xlabel('Scale Order')\n",
    "plt.ylabel('Log-Scale Duration (min)')\n",
    "plt.title('Log-spaced Scales')\n",
    "\n",
    "plt.show()"
   ]
  },
  {
   "cell_type": "markdown",
   "id": "35f3327d",
   "metadata": {},
   "source": [
    "## 3. Split sample into epochs, detrend, compute RMS"
   ]
  },
  {
   "cell_type": "code",
   "execution_count": 17,
   "id": "e3f462ca",
   "metadata": {
    "scrolled": true
   },
   "outputs": [
    {
     "data": {
      "text/html": [
       "<div>\n",
       "<style scoped>\n",
       "    .dataframe tbody tr th:only-of-type {\n",
       "        vertical-align: middle;\n",
       "    }\n",
       "\n",
       "    .dataframe tbody tr th {\n",
       "        vertical-align: top;\n",
       "    }\n",
       "\n",
       "    .dataframe thead th {\n",
       "        text-align: right;\n",
       "    }\n",
       "</style>\n",
       "<table border=\"1\" class=\"dataframe\">\n",
       "  <thead>\n",
       "    <tr style=\"text-align: right;\">\n",
       "      <th></th>\n",
       "      <th>epoch_size</th>\n",
       "    </tr>\n",
       "  </thead>\n",
       "  <tbody>\n",
       "    <tr>\n",
       "      <th>s_fd_3</th>\n",
       "      <td>48000</td>\n",
       "    </tr>\n",
       "    <tr>\n",
       "      <th>s_fd_4</th>\n",
       "      <td>36000</td>\n",
       "    </tr>\n",
       "    <tr>\n",
       "      <th>s_fd_5</th>\n",
       "      <td>28800</td>\n",
       "    </tr>\n",
       "    <tr>\n",
       "      <th>s_fd_6</th>\n",
       "      <td>24000</td>\n",
       "    </tr>\n",
       "    <tr>\n",
       "      <th>s_fd_7</th>\n",
       "      <td>20571</td>\n",
       "    </tr>\n",
       "    <tr>\n",
       "      <th>...</th>\n",
       "      <td>...</td>\n",
       "    </tr>\n",
       "    <tr>\n",
       "      <th>s_bd_7</th>\n",
       "      <td>20571</td>\n",
       "    </tr>\n",
       "    <tr>\n",
       "      <th>s_bd_6</th>\n",
       "      <td>24000</td>\n",
       "    </tr>\n",
       "    <tr>\n",
       "      <th>s_bd_5</th>\n",
       "      <td>28800</td>\n",
       "    </tr>\n",
       "    <tr>\n",
       "      <th>s_bd_4</th>\n",
       "      <td>36000</td>\n",
       "    </tr>\n",
       "    <tr>\n",
       "      <th>s_bd_3</th>\n",
       "      <td>48000</td>\n",
       "    </tr>\n",
       "  </tbody>\n",
       "</table>\n",
       "<p>28796 rows × 1 columns</p>\n",
       "</div>"
      ],
      "text/plain": [
       "        epoch_size\n",
       "s_fd_3       48000\n",
       "s_fd_4       36000\n",
       "s_fd_5       28800\n",
       "s_fd_6       24000\n",
       "s_fd_7       20571\n",
       "...            ...\n",
       "s_bd_7       20571\n",
       "s_bd_6       24000\n",
       "s_bd_5       28800\n",
       "s_bd_4       36000\n",
       "s_bd_3       48000\n",
       "\n",
       "[28796 rows x 1 columns]"
      ]
     },
     "execution_count": 17,
     "metadata": {},
     "output_type": "execute_result"
    }
   ],
   "source": [
    "# Define dataframe index\n",
    "scale_list_forward = ['s_fd_' + str(i) for i in scales]\n",
    "scale_list_backward = ['s_bd_' + str(i) for i in range(scales_max, 3-1, -1)]\n",
    "scale_list = scale_list_forward + scale_list_backward\n",
    "scale_list\n",
    "\n",
    "# Initiate dataframe\n",
    "dfa = pd.DataFrame(index=scale_list)\n",
    "\n",
    "dfa['epoch_size'] = np.concatenate((n_epochs, n_epochs[::-1]), axis=None)\n",
    "dfa"
   ]
  },
  {
   "cell_type": "code",
   "execution_count": 18,
   "id": "ed7826e1",
   "metadata": {},
   "outputs": [
    {
     "name": "stdout",
     "output_type": "stream",
     "text": [
      "       0          1          2          3          4          5      \\\n",
      "0  -2.746899 -20.334846 -36.831908 -52.258820 -66.440797 -81.942178   \n",
      "1  -8.593384 -24.582182 -41.461622 -57.996185 -69.253890 -88.105249   \n",
      "2 -13.929095 -30.642013 -46.068924 -64.027263 -75.461526 -94.492027   \n",
      "\n",
      "        6           7           8           9      ...       47990  \\\n",
      "0  -99.775406 -118.366631 -135.177826 -153.905249  ... -952.499275   \n",
      "1 -106.255788 -124.529789 -140.944215 -158.470157  ... -950.443057   \n",
      "2 -112.642581 -128.714408 -147.424867 -164.651458  ... -926.394860   \n",
      "\n",
      "        47991       47992       47993       47994       47995       47996  \\\n",
      "0 -904.846785 -633.724844 -579.404135 -439.288293 -372.704074 -334.148025   \n",
      "1 -907.570141 -634.412289 -569.915111 -431.476811 -374.477489 -339.142388   \n",
      "2 -784.996720 -614.032211 -485.660919 -425.679383 -372.630913 -299.659709   \n",
      "\n",
      "        47997       47998         47999  \n",
      "0 -222.098443 -179.113014 -8.971209e+01  \n",
      "1 -222.805435  -79.857190 -9.619253e+01  \n",
      "2 -225.568497  -85.978002  2.813039e-09  \n",
      "\n",
      "[3 rows x 48000 columns]\n"
     ]
    }
   ],
   "source": [
    "# Analysize each epoch\n",
    "for j in dfa['epoch_size'][:1]:\n",
    "    a = pd.DataFrame(np.resize(mcs['mean_centered_cum_sum'][:j*int(n_sample/j)], (j, int(n_sample/j))).T)\n",
    "            \n",
    "    print(a)"
   ]
  },
  {
   "cell_type": "code",
   "execution_count": 19,
   "id": "ffebe325",
   "metadata": {},
   "outputs": [
    {
     "data": {
      "text/plain": [
       "0    -2.746899\n",
       "1    -8.593384\n",
       "2   -13.929095\n",
       "Name: 0, dtype: float64"
      ]
     },
     "execution_count": 19,
     "metadata": {},
     "output_type": "execute_result"
    }
   ],
   "source": [
    "signal.detrend([a[0], a[1])\n",
    "a[0]"
   ]
  },
  {
   "cell_type": "code",
   "execution_count": 20,
   "id": "eec32181",
   "metadata": {},
   "outputs": [
    {
     "data": {
      "text/plain": [
       "array([   3,    4,    5,    6,    7,    8,    9,   10,   11,   12,   13,\n",
       "         14,   15,   16,   17,   18,   19,   20,   21,   22,   24,   25,\n",
       "         27,   28,   30,   32,   34,   36,   38,   40,   43,   45,   48,\n",
       "         51,   54,   57,   61,   65,   68,   73,   77,   82,   86,   92,\n",
       "         97,  103,  109,  116,  123,  130,  138,  146,  155,  164,  174,\n",
       "        185,  196,  208,  220,  233,  247,  262,  278,  294,  312,  331,\n",
       "        351,  372,  394,  418,  443,  469,  497,  527,  559,  592,  628,\n",
       "        665,  705,  747,  792,  839,  890,  943, 1000])"
      ]
     },
     "execution_count": 20,
     "metadata": {},
     "output_type": "execute_result"
    }
   ],
   "source": [
    "lag = np.unique(np.logspace(0.5, 3, 100).astype(int))\n",
    "lag     "
   ]
  },
  {
   "cell_type": "code",
   "execution_count": null,
   "id": "6cbd2a47",
   "metadata": {},
   "outputs": [],
   "source": []
  }
 ],
 "metadata": {
  "kernelspec": {
   "display_name": "Python 3 (ipykernel)",
   "language": "python",
   "name": "python3"
  },
  "language_info": {
   "codemirror_mode": {
    "name": "ipython",
    "version": 3
   },
   "file_extension": ".py",
   "mimetype": "text/x-python",
   "name": "python",
   "nbconvert_exporter": "python",
   "pygments_lexer": "ipython3",
   "version": "3.8.13"
  }
 },
 "nbformat": 4,
 "nbformat_minor": 5
}
