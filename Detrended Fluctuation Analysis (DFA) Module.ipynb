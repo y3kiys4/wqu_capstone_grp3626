{
 "cells": [
  {
   "cell_type": "markdown",
   "id": "32a22dd5",
   "metadata": {},
   "source": [
    "# Detrended Fluctuation Analysis (DFA) Module"
   ]
  },
  {
   "cell_type": "code",
   "execution_count": 19,
   "id": "42ab7d8d",
   "metadata": {},
   "outputs": [],
   "source": [
    "import array\n",
    "import pandas as pd\n",
    "import numpy as np\n",
    "import matplotlib.pyplot as plt"
   ]
  },
  {
   "cell_type": "markdown",
   "id": "71f3e0c2",
   "metadata": {},
   "source": [
    "## 1. Convert to mean-centered cumulative sum"
   ]
  },
  {
   "cell_type": "code",
   "execution_count": 5,
   "id": "18337858",
   "metadata": {},
   "outputs": [
    {
     "name": "stderr",
     "output_type": "stream",
     "text": [
      "C:\\Users\\cutef\\AppData\\Local\\Temp\\ipykernel_13660\\374198705.py:18: SettingWithCopyWarning: \n",
      "A value is trying to be set on a copy of a slice from a DataFrame.\n",
      "Try using .loc[row_indexer,col_indexer] = value instead\n",
      "\n",
      "See the caveats in the documentation: https://pandas.pydata.org/pandas-docs/stable/user_guide/indexing.html#returning-a-view-versus-a-copy\n",
      "  df_1min['log_ret_sq'] = np.square(df_1min['log_ret'])\n"
     ]
    },
    {
     "data": {
      "text/html": [
       "<div>\n",
       "<style scoped>\n",
       "    .dataframe tbody tr th:only-of-type {\n",
       "        vertical-align: middle;\n",
       "    }\n",
       "\n",
       "    .dataframe tbody tr th {\n",
       "        vertical-align: top;\n",
       "    }\n",
       "\n",
       "    .dataframe thead th {\n",
       "        text-align: right;\n",
       "    }\n",
       "</style>\n",
       "<table border=\"1\" class=\"dataframe\">\n",
       "  <thead>\n",
       "    <tr style=\"text-align: right;\">\n",
       "      <th></th>\n",
       "      <th>Price</th>\n",
       "      <th>log_ret</th>\n",
       "      <th>deltaT</th>\n",
       "      <th>log_ret_sq</th>\n",
       "    </tr>\n",
       "    <tr>\n",
       "      <th>Time</th>\n",
       "      <th></th>\n",
       "      <th></th>\n",
       "      <th></th>\n",
       "      <th></th>\n",
       "    </tr>\n",
       "  </thead>\n",
       "  <tbody>\n",
       "    <tr>\n",
       "      <th>2020-12-01 00:01:00</th>\n",
       "      <td>3654.045</td>\n",
       "      <td>1.932292</td>\n",
       "      <td>1.0</td>\n",
       "      <td>3.733753</td>\n",
       "    </tr>\n",
       "    <tr>\n",
       "      <th>2020-12-01 00:02:00</th>\n",
       "      <td>3654.336</td>\n",
       "      <td>0.796346</td>\n",
       "      <td>1.0</td>\n",
       "      <td>0.634167</td>\n",
       "    </tr>\n",
       "    <tr>\n",
       "      <th>2020-12-01 00:03:00</th>\n",
       "      <td>3653.945</td>\n",
       "      <td>-1.070019</td>\n",
       "      <td>1.0</td>\n",
       "      <td>1.144941</td>\n",
       "    </tr>\n",
       "    <tr>\n",
       "      <th>2020-12-01 00:04:00</th>\n",
       "      <td>3653.845</td>\n",
       "      <td>-0.273681</td>\n",
       "      <td>1.0</td>\n",
       "      <td>0.074901</td>\n",
       "    </tr>\n",
       "    <tr>\n",
       "      <th>2020-12-01 00:05:00</th>\n",
       "      <td>3653.299</td>\n",
       "      <td>-1.494428</td>\n",
       "      <td>1.0</td>\n",
       "      <td>2.233315</td>\n",
       "    </tr>\n",
       "    <tr>\n",
       "      <th>...</th>\n",
       "      <td>...</td>\n",
       "      <td>...</td>\n",
       "      <td>...</td>\n",
       "      <td>...</td>\n",
       "    </tr>\n",
       "    <tr>\n",
       "      <th>2023-06-30 16:09:00</th>\n",
       "      <td>4446.311</td>\n",
       "      <td>-1.171689</td>\n",
       "      <td>1.0</td>\n",
       "      <td>1.372856</td>\n",
       "    </tr>\n",
       "    <tr>\n",
       "      <th>2023-06-30 16:10:00</th>\n",
       "      <td>4445.570</td>\n",
       "      <td>-1.666689</td>\n",
       "      <td>1.0</td>\n",
       "      <td>2.777852</td>\n",
       "    </tr>\n",
       "    <tr>\n",
       "      <th>2023-06-30 16:11:00</th>\n",
       "      <td>4445.332</td>\n",
       "      <td>-0.535379</td>\n",
       "      <td>1.0</td>\n",
       "      <td>0.286630</td>\n",
       "    </tr>\n",
       "    <tr>\n",
       "      <th>2023-06-30 16:12:00</th>\n",
       "      <td>4445.320</td>\n",
       "      <td>-0.026995</td>\n",
       "      <td>1.0</td>\n",
       "      <td>0.000729</td>\n",
       "    </tr>\n",
       "    <tr>\n",
       "      <th>2023-06-30 16:13:00</th>\n",
       "      <td>4444.823</td>\n",
       "      <td>-1.118092</td>\n",
       "      <td>1.0</td>\n",
       "      <td>1.250130</td>\n",
       "    </tr>\n",
       "  </tbody>\n",
       "</table>\n",
       "<p>824645 rows × 4 columns</p>\n",
       "</div>"
      ],
      "text/plain": [
       "                        Price   log_ret  deltaT  log_ret_sq\n",
       "Time                                                       \n",
       "2020-12-01 00:01:00  3654.045  1.932292     1.0    3.733753\n",
       "2020-12-01 00:02:00  3654.336  0.796346     1.0    0.634167\n",
       "2020-12-01 00:03:00  3653.945 -1.070019     1.0    1.144941\n",
       "2020-12-01 00:04:00  3653.845 -0.273681     1.0    0.074901\n",
       "2020-12-01 00:05:00  3653.299 -1.494428     1.0    2.233315\n",
       "...                       ...       ...     ...         ...\n",
       "2023-06-30 16:09:00  4446.311 -1.171689     1.0    1.372856\n",
       "2023-06-30 16:10:00  4445.570 -1.666689     1.0    2.777852\n",
       "2023-06-30 16:11:00  4445.332 -0.535379     1.0    0.286630\n",
       "2023-06-30 16:12:00  4445.320 -0.026995     1.0    0.000729\n",
       "2023-06-30 16:13:00  4444.823 -1.118092     1.0    1.250130\n",
       "\n",
       "[824645 rows x 4 columns]"
      ]
     },
     "execution_count": 5,
     "metadata": {},
     "output_type": "execute_result"
    }
   ],
   "source": [
    "files = 'https://raw.githubusercontent.com/y3kiys4/wqu_capstone_june2023_grp3626/main/SPX_1m_Dec2020_Jun2023.csv'\n",
    "\n",
    "df = pd.read_csv(files)\n",
    "# Set timestamp as index\n",
    "df = df.set_index(df['Time'])\n",
    "df.drop(['Time'], axis=1, inplace=True)\n",
    "df.index = pd.to_datetime(df.index)\n",
    "\n",
    "# Calculate log return\n",
    "df['log_ret'] = 10000 * np.log(df.Price).diff() # 10,000 times log return\n",
    "\n",
    "# Calculate the time difference in mininutes\n",
    "df['deltaT'] = (df.index.to_series().diff().dt.days.mul(60*24, fill_value=0) +\n",
    "                df.index.to_series().diff().dt.seconds.div(60, fill_value=0)\n",
    "               )\n",
    "\n",
    "df_1min = df[df['deltaT'] == 1]\n",
    "df_1min['log_ret_sq'] = np.square(df_1min['log_ret'])\n",
    "df_1min"
   ]
  },
  {
   "cell_type": "code",
   "execution_count": 81,
   "id": "80562a44",
   "metadata": {},
   "outputs": [
    {
     "data": {
      "text/plain": [
       "<AxesSubplot:xlabel='Time'>"
      ]
     },
     "execution_count": 81,
     "metadata": {},
     "output_type": "execute_result"
    },
    {
     "data": {
      "image/png": "[encoded data removed]",
      "text/plain": [
       "<Figure size 640x480 with 1 Axes>"
      ]
     },
     "metadata": {},
     "output_type": "display_data"
    }
   ],
   "source": [
    "n_sample = 60 * 24 * 10\n",
    "\n",
    "dfa = pd.DataFrame(df_1min['log_ret_sq'][:n_sample], columns = ['log_ret_sq'])\n",
    "dfa['mean'] = [dfa['log_ret_sq'].mean()] * n_sample\n",
    "dfa['mean_centered'] = dfa['log_ret_sq'] - dfa['mean']\n",
    "dfa['mean_centered_cum_sum'] = dfa['mean_centered']\n",
    "dfa['mean_centered_cum_sum'] = dfa['mean_centered_cum_sum'].cumsum()\n",
    "\n",
    "dfa['log_ret_sq'].plot()\n",
    "dfa['mean_centered_cum_sum'].plot()"
   ]
  },
  {
   "cell_type": "markdown",
   "id": "3c85ae02",
   "metadata": {},
   "source": [
    "## 2. Define log-spaced 'scales'"
   ]
  },
  {
   "cell_type": "code",
   "execution_count": 78,
   "id": "5822a883",
   "metadata": {
    "scrolled": false
   },
   "outputs": [
    {
     "data": {
      "image/png": "[encoded data removed]",
      "text/plain": [
       "<Figure size 640x480 with 1 Axes>"
      ]
     },
     "metadata": {},
     "output_type": "display_data"
    }
   ],
   "source": [
    "epoch_size = 400\n",
    "duration = np.array([i for i in range(1, epoch_size+1)])\n",
    "scales = np.divide(n_sample, duration).astype(int)\n",
    "log_duration = np.log(duration)\n",
    "log_scales = np.log(scales)\n",
    "n_scales = len(scales)\n",
    "\n",
    "plt.plot(range(1, n_scales+1), log_duration)\n",
    "plt.xlabel('Scale Order')\n",
    "plt.ylabel('Scale Duration (min)')\n",
    "plt.title('Log-spaced Scales')\n",
    "\n",
    "plt.show()"
   ]
  },
  {
   "cell_type": "markdown",
   "id": "9de2b1bd",
   "metadata": {},
   "source": [
    "## 3. Split sample into epochs, detrend, compute RMS"
   ]
  },
  {
   "cell_type": "code",
   "execution_count": 79,
   "id": "1ff69d10",
   "metadata": {
    "scrolled": false
   },
   "outputs": [
    {
     "ename": "SyntaxError",
     "evalue": "invalid syntax (1635841291.py, line 3)",
     "output_type": "error",
     "traceback": [
      "\u001b[1;36m  Cell \u001b[1;32mIn[79], line 3\u001b[1;36m\u001b[0m\n\u001b[1;33m    step_3['size'] =\u001b[0m\n\u001b[1;37m                     ^\u001b[0m\n\u001b[1;31mSyntaxError\u001b[0m\u001b[1;31m:\u001b[0m invalid syntax\n"
     ]
    }
   ],
   "source": [
    "epoch_list = ['epoch_' + str(i) for i in range(1, 1+epoch_size*2)]  \n",
    "step_3 = pd.DataFrame(index=epoch_list)\n",
    "step_3['size'] = "
   ]
  },
  {
   "cell_type": "code",
   "execution_count": 80,
   "id": "fa390c00",
   "metadata": {
    "scrolled": true
   },
   "outputs": [
    {
     "data": {
      "text/plain": [
       "array([1440,  720,  480,  360,  288,  240,  205,  180,  160,  144,  130,\n",
       "        120,  110,  102,   96,   90,   84,   80,   75,   72,   68,   65,\n",
       "         62,   60,   57,   55,   53,   51,   49,   48,   46,   45,   43,\n",
       "         42,   41,   40,   38,   37,   36,   36,   35,   34,   33,   32,\n",
       "         32,   31,   30,   30,   29,   28,   28,   27,   27,   26,   26,\n",
       "         25,   25,   24,   24,   24,   23,   23,   22,   22,   22,   21,\n",
       "         21,   21,   20,   20,   20,   20,   19,   19,   19,   18,   18,\n",
       "         18,   18,   18,   17,   17,   17,   17,   16,   16,   16,   16,\n",
       "         16,   16,   15,   15,   15,   15,   15,   15,   14,   14,   14,\n",
       "         14,   14,   14,   13,   13,   13,   13,   13,   13,   13,   13,\n",
       "         12,   12,   12,   12,   12,   12,   12,   12,   12,   12,   11,\n",
       "         11,   11,   11,   11,   11,   11,   11,   11,   11,   10,   10,\n",
       "         10,   10,   10,   10,   10,   10,   10,   10,   10,   10,   10,\n",
       "         10,    9,    9,    9,    9,    9,    9,    9,    9,    9,    9,\n",
       "          9,    9,    9,    9,    9,    9,    8,    8,    8,    8,    8,\n",
       "          8,    8,    8,    8,    8,    8,    8,    8,    8,    8,    8,\n",
       "          8,    8,    8,    8,    7,    7,    7,    7,    7,    7,    7,\n",
       "          7,    7,    7,    7,    7,    7,    7,    7,    7,    7,    7,\n",
       "          7,    7,    7,    7,    7,    7,    7,    6,    6,    6,    6,\n",
       "          6,    6,    6,    6,    6,    6,    6,    6,    6,    6,    6,\n",
       "          6,    6,    6,    6,    6,    6,    6,    6,    6,    6,    6,\n",
       "          6,    6,    6,    6,    6,    6,    6,    6,    6,    5,    5,\n",
       "          5,    5,    5,    5,    5,    5,    5,    5,    5,    5,    5,\n",
       "          5,    5,    5,    5,    5,    5,    5,    5,    5,    5,    5,\n",
       "          5,    5,    5,    5,    5,    5,    5,    5,    5,    5,    5,\n",
       "          5,    5,    5,    5,    5,    5,    5,    5,    5,    5,    5,\n",
       "          5,    5,    4,    4,    4,    4,    4,    4,    4,    4,    4,\n",
       "          4,    4,    4,    4,    4,    4,    4,    4,    4,    4,    4,\n",
       "          4,    4,    4,    4,    4,    4,    4,    4,    4,    4,    4,\n",
       "          4,    4,    4,    4,    4,    4,    4,    4,    4,    4,    4,\n",
       "          4,    4,    4,    4,    4,    4,    4,    4,    4,    4,    4,\n",
       "          4,    4,    4,    4,    4,    4,    4,    4,    4,    4,    4,\n",
       "          4,    4,    4,    4,    4,    4,    4,    4,    3,    3,    3,\n",
       "          3,    3,    3,    3,    3,    3,    3,    3,    3,    3,    3,\n",
       "          3,    3,    3,    3,    3,    3,    3,    3,    3,    3,    3,\n",
       "          3,    3,    3,    3,    3,    3,    3,    3,    3,    3,    3,\n",
       "          3,    3,    3,    3])"
      ]
     },
     "execution_count": 80,
     "metadata": {},
     "output_type": "execute_result"
    }
   ],
   "source": [
    "scales"
   ]
  },
  {
   "cell_type": "code",
   "execution_count": 77,
   "id": "6863d561",
   "metadata": {},
   "outputs": [
    {
     "data": {
      "text/plain": [
       "array([   1,    1,    1, ...,  480,  720, 1440])"
      ]
     },
     "execution_count": 77,
     "metadata": {},
     "output_type": "execute_result"
    }
   ],
   "source": [
    "scales_reverse = scales[::-1]\n",
    "scales_reverse"
   ]
  },
  {
   "cell_type": "code",
   "execution_count": 72,
   "id": "f0ec727c",
   "metadata": {},
   "outputs": [
    {
     "data": {
      "text/html": [
       "<div>\n",
       "<style scoped>\n",
       "    .dataframe tbody tr th:only-of-type {\n",
       "        vertical-align: middle;\n",
       "    }\n",
       "\n",
       "    .dataframe tbody tr th {\n",
       "        vertical-align: top;\n",
       "    }\n",
       "\n",
       "    .dataframe thead th {\n",
       "        text-align: right;\n",
       "    }\n",
       "</style>\n",
       "<table border=\"1\" class=\"dataframe\">\n",
       "  <thead>\n",
       "    <tr style=\"text-align: right;\">\n",
       "      <th></th>\n",
       "      <th>0</th>\n",
       "      <th>1</th>\n",
       "      <th>2</th>\n",
       "    </tr>\n",
       "  </thead>\n",
       "  <tbody>\n",
       "    <tr>\n",
       "      <th>0</th>\n",
       "      <td>0.0</td>\n",
       "      <td>0.0</td>\n",
       "      <td>0.0</td>\n",
       "    </tr>\n",
       "    <tr>\n",
       "      <th>1</th>\n",
       "      <td>0.0</td>\n",
       "      <td>0.0</td>\n",
       "      <td>0.0</td>\n",
       "    </tr>\n",
       "  </tbody>\n",
       "</table>\n",
       "</div>"
      ],
      "text/plain": [
       "     0    1    2\n",
       "0  0.0  0.0  0.0\n",
       "1  0.0  0.0  0.0"
      ]
     },
     "execution_count": 72,
     "metadata": {},
     "output_type": "execute_result"
    }
   ],
   "source": [
    "# First half\n",
    "for i in range(1, 1+epoch_size):\n",
    "    pass\n",
    "a = pd.DataFrame(np.zeros((2,3)))\n",
    "a"
   ]
  },
  {
   "cell_type": "code",
   "execution_count": 69,
   "id": "3ad5f277",
   "metadata": {},
   "outputs": [
    {
     "data": {
      "text/html": [
       "<div>\n",
       "<style scoped>\n",
       "    .dataframe tbody tr th:only-of-type {\n",
       "        vertical-align: middle;\n",
       "    }\n",
       "\n",
       "    .dataframe tbody tr th {\n",
       "        vertical-align: top;\n",
       "    }\n",
       "\n",
       "    .dataframe thead th {\n",
       "        text-align: right;\n",
       "    }\n",
       "</style>\n",
       "<table border=\"1\" class=\"dataframe\">\n",
       "  <thead>\n",
       "    <tr style=\"text-align: right;\">\n",
       "      <th></th>\n",
       "      <th>epoch_1</th>\n",
       "      <th>epoch_2</th>\n",
       "      <th>epoch_3</th>\n",
       "      <th>epoch_4</th>\n",
       "      <th>epoch_5</th>\n",
       "      <th>epoch_6</th>\n",
       "      <th>epoch_7</th>\n",
       "      <th>epoch_8</th>\n",
       "      <th>epoch_9</th>\n",
       "      <th>epoch_10</th>\n",
       "      <th>...</th>\n",
       "      <th>epoch_2391</th>\n",
       "      <th>epoch_2392</th>\n",
       "      <th>epoch_2393</th>\n",
       "      <th>epoch_2394</th>\n",
       "      <th>epoch_2395</th>\n",
       "      <th>epoch_2396</th>\n",
       "      <th>epoch_2397</th>\n",
       "      <th>epoch_2398</th>\n",
       "      <th>epoch_2399</th>\n",
       "      <th>epoch_2400</th>\n",
       "    </tr>\n",
       "  </thead>\n",
       "  <tbody>\n",
       "  </tbody>\n",
       "</table>\n",
       "<p>0 rows × 2400 columns</p>\n",
       "</div>"
      ],
      "text/plain": [
       "Empty DataFrame\n",
       "Columns: [epoch_1, epoch_2, epoch_3, epoch_4, epoch_5, epoch_6, epoch_7, epoch_8, epoch_9, epoch_10, epoch_11, epoch_12, epoch_13, epoch_14, epoch_15, epoch_16, epoch_17, epoch_18, epoch_19, epoch_20, epoch_21, epoch_22, epoch_23, epoch_24, epoch_25, epoch_26, epoch_27, epoch_28, epoch_29, epoch_30, epoch_31, epoch_32, epoch_33, epoch_34, epoch_35, epoch_36, epoch_37, epoch_38, epoch_39, epoch_40, epoch_41, epoch_42, epoch_43, epoch_44, epoch_45, epoch_46, epoch_47, epoch_48, epoch_49, epoch_50, epoch_51, epoch_52, epoch_53, epoch_54, epoch_55, epoch_56, epoch_57, epoch_58, epoch_59, epoch_60, epoch_61, epoch_62, epoch_63, epoch_64, epoch_65, epoch_66, epoch_67, epoch_68, epoch_69, epoch_70, epoch_71, epoch_72, epoch_73, epoch_74, epoch_75, epoch_76, epoch_77, epoch_78, epoch_79, epoch_80, epoch_81, epoch_82, epoch_83, epoch_84, epoch_85, epoch_86, epoch_87, epoch_88, epoch_89, epoch_90, epoch_91, epoch_92, epoch_93, epoch_94, epoch_95, epoch_96, epoch_97, epoch_98, epoch_99, epoch_100, ...]\n",
       "Index: []\n",
       "\n",
       "[0 rows x 2400 columns]"
      ]
     },
     "execution_count": 69,
     "metadata": {},
     "output_type": "execute_result"
    }
   ],
   "source": []
  },
  {
   "cell_type": "code",
   "execution_count": null,
   "id": "5a3f98c3",
   "metadata": {},
   "outputs": [],
   "source": []
  }
 ],
 "metadata": {
  "kernelspec": {
   "display_name": "Python 3 (ipykernel)",
   "language": "python",
   "name": "python3"
  },
  "language_info": {
   "codemirror_mode": {
    "name": "ipython",
    "version": 3
   },
   "file_extension": ".py",
   "mimetype": "text/x-python",
   "name": "python",
   "nbconvert_exporter": "python",
   "pygments_lexer": "ipython3",
   "version": "3.8.13"
  }
 },
 "nbformat": 4,
 "nbformat_minor": 5
}
