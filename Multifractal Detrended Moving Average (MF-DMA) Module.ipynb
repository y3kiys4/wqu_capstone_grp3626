{
 "cells": [
  {
   "cell_type": "markdown",
   "id": "6c0e7498",
   "metadata": {},
   "source": [
    "# Multifractal Detrended Moving Average (MF-DMA) Module"
   ]
  },
  {
   "cell_type": "markdown",
   "id": "7c1bf7c3",
   "metadata": {},
   "source": [
    "Reference:\n",
    "\n",
    "Gu, Gao-Feng Gu, and Wei-Xing Zhou. \"Detrending moving average algorithm for multifractals.\" Physical Review E, no. 82, 2010, pp. 011136,\n",
    "\n",
    "Arianos, Sergio, and Anna Carbone. \"Detrending moving average algorithm: A closed-form approximation of the scaling law.\" Physica A, no. 382, 2007, pp. 9–15"
   ]
  },
  {
   "cell_type": "code",
   "execution_count": 1,
   "id": "46de6324",
   "metadata": {},
   "outputs": [],
   "source": [
    "import array\n",
    "import pandas as pd\n",
    "import numpy as np\n",
    "import matplotlib.pyplot as plt\n",
    "import time"
   ]
  },
  {
   "cell_type": "code",
   "execution_count": 2,
   "id": "91996ca8",
   "metadata": {
    "scrolled": true
   },
   "outputs": [
    {
     "name": "stderr",
     "output_type": "stream",
     "text": [
      "C:\\Users\\cutef\\AppData\\Local\\Temp\\ipykernel_9708\\374198705.py:18: SettingWithCopyWarning: \n",
      "A value is trying to be set on a copy of a slice from a DataFrame.\n",
      "Try using .loc[row_indexer,col_indexer] = value instead\n",
      "\n",
      "See the caveats in the documentation: https://pandas.pydata.org/pandas-docs/stable/user_guide/indexing.html#returning-a-view-versus-a-copy\n",
      "  df_1min['log_ret_sq'] = np.square(df_1min['log_ret'])\n"
     ]
    },
    {
     "data": {
      "text/html": [
       "<div>\n",
       "<style scoped>\n",
       "    .dataframe tbody tr th:only-of-type {\n",
       "        vertical-align: middle;\n",
       "    }\n",
       "\n",
       "    .dataframe tbody tr th {\n",
       "        vertical-align: top;\n",
       "    }\n",
       "\n",
       "    .dataframe thead th {\n",
       "        text-align: right;\n",
       "    }\n",
       "</style>\n",
       "<table border=\"1\" class=\"dataframe\">\n",
       "  <thead>\n",
       "    <tr style=\"text-align: right;\">\n",
       "      <th></th>\n",
       "      <th>Price</th>\n",
       "      <th>log_ret</th>\n",
       "      <th>deltaT</th>\n",
       "      <th>log_ret_sq</th>\n",
       "    </tr>\n",
       "    <tr>\n",
       "      <th>Time</th>\n",
       "      <th></th>\n",
       "      <th></th>\n",
       "      <th></th>\n",
       "      <th></th>\n",
       "    </tr>\n",
       "  </thead>\n",
       "  <tbody>\n",
       "    <tr>\n",
       "      <th>2020-12-01 00:01:00</th>\n",
       "      <td>3654.045</td>\n",
       "      <td>1.932292</td>\n",
       "      <td>1.0</td>\n",
       "      <td>3.733753</td>\n",
       "    </tr>\n",
       "    <tr>\n",
       "      <th>2020-12-01 00:02:00</th>\n",
       "      <td>3654.336</td>\n",
       "      <td>0.796346</td>\n",
       "      <td>1.0</td>\n",
       "      <td>0.634167</td>\n",
       "    </tr>\n",
       "    <tr>\n",
       "      <th>2020-12-01 00:03:00</th>\n",
       "      <td>3653.945</td>\n",
       "      <td>-1.070019</td>\n",
       "      <td>1.0</td>\n",
       "      <td>1.144941</td>\n",
       "    </tr>\n",
       "    <tr>\n",
       "      <th>2020-12-01 00:04:00</th>\n",
       "      <td>3653.845</td>\n",
       "      <td>-0.273681</td>\n",
       "      <td>1.0</td>\n",
       "      <td>0.074901</td>\n",
       "    </tr>\n",
       "    <tr>\n",
       "      <th>2020-12-01 00:05:00</th>\n",
       "      <td>3653.299</td>\n",
       "      <td>-1.494428</td>\n",
       "      <td>1.0</td>\n",
       "      <td>2.233315</td>\n",
       "    </tr>\n",
       "    <tr>\n",
       "      <th>...</th>\n",
       "      <td>...</td>\n",
       "      <td>...</td>\n",
       "      <td>...</td>\n",
       "      <td>...</td>\n",
       "    </tr>\n",
       "    <tr>\n",
       "      <th>2023-06-30 16:09:00</th>\n",
       "      <td>4446.311</td>\n",
       "      <td>-1.171689</td>\n",
       "      <td>1.0</td>\n",
       "      <td>1.372856</td>\n",
       "    </tr>\n",
       "    <tr>\n",
       "      <th>2023-06-30 16:10:00</th>\n",
       "      <td>4445.570</td>\n",
       "      <td>-1.666689</td>\n",
       "      <td>1.0</td>\n",
       "      <td>2.777852</td>\n",
       "    </tr>\n",
       "    <tr>\n",
       "      <th>2023-06-30 16:11:00</th>\n",
       "      <td>4445.332</td>\n",
       "      <td>-0.535379</td>\n",
       "      <td>1.0</td>\n",
       "      <td>0.286630</td>\n",
       "    </tr>\n",
       "    <tr>\n",
       "      <th>2023-06-30 16:12:00</th>\n",
       "      <td>4445.320</td>\n",
       "      <td>-0.026995</td>\n",
       "      <td>1.0</td>\n",
       "      <td>0.000729</td>\n",
       "    </tr>\n",
       "    <tr>\n",
       "      <th>2023-06-30 16:13:00</th>\n",
       "      <td>4444.823</td>\n",
       "      <td>-1.118092</td>\n",
       "      <td>1.0</td>\n",
       "      <td>1.250130</td>\n",
       "    </tr>\n",
       "  </tbody>\n",
       "</table>\n",
       "<p>824645 rows × 4 columns</p>\n",
       "</div>"
      ],
      "text/plain": [
       "                        Price   log_ret  deltaT  log_ret_sq\n",
       "Time                                                       \n",
       "2020-12-01 00:01:00  3654.045  1.932292     1.0    3.733753\n",
       "2020-12-01 00:02:00  3654.336  0.796346     1.0    0.634167\n",
       "2020-12-01 00:03:00  3653.945 -1.070019     1.0    1.144941\n",
       "2020-12-01 00:04:00  3653.845 -0.273681     1.0    0.074901\n",
       "2020-12-01 00:05:00  3653.299 -1.494428     1.0    2.233315\n",
       "...                       ...       ...     ...         ...\n",
       "2023-06-30 16:09:00  4446.311 -1.171689     1.0    1.372856\n",
       "2023-06-30 16:10:00  4445.570 -1.666689     1.0    2.777852\n",
       "2023-06-30 16:11:00  4445.332 -0.535379     1.0    0.286630\n",
       "2023-06-30 16:12:00  4445.320 -0.026995     1.0    0.000729\n",
       "2023-06-30 16:13:00  4444.823 -1.118092     1.0    1.250130\n",
       "\n",
       "[824645 rows x 4 columns]"
      ]
     },
     "execution_count": 2,
     "metadata": {},
     "output_type": "execute_result"
    }
   ],
   "source": [
    "files = 'https://raw.githubusercontent.com/y3kiys4/wqu_capstone_june2023_grp3626/main/SPX_1m_Dec2020_Jun2023.csv'\n",
    "\n",
    "df = pd.read_csv(files)\n",
    "# Set timestamp as index\n",
    "df = df.set_index(df['Time'])\n",
    "df.drop(['Time'], axis=1, inplace=True)\n",
    "df.index = pd.to_datetime(df.index)\n",
    "\n",
    "# Calculate log return\n",
    "df['log_ret'] = 10000 * np.log(df.Price).diff() # 10,000 times log return\n",
    "\n",
    "# Calculate the time difference in mininutes\n",
    "df['deltaT'] = (df.index.to_series().diff().dt.days.mul(60*24, fill_value=0) +\n",
    "                df.index.to_series().diff().dt.seconds.div(60, fill_value=0)\n",
    "               )\n",
    "\n",
    "df_1min = df[df['deltaT'] == 1]\n",
    "df_1min['log_ret_sq'] = np.square(df_1min['log_ret'])\n",
    "df_1min"
   ]
  },
  {
   "cell_type": "markdown",
   "id": "30f8172c",
   "metadata": {},
   "source": [
    "## 1. Construct the sequence of cumulative sums"
   ]
  },
  {
   "cell_type": "code",
   "execution_count": 3,
   "id": "e2147727",
   "metadata": {},
   "outputs": [
    {
     "data": {
      "text/plain": [
       "<AxesSubplot:xlabel='Time'>"
      ]
     },
     "execution_count": 3,
     "metadata": {},
     "output_type": "execute_result"
    },
    {
     "data": {
      "image/png": "[encoded data removed]",
      "text/plain": [
       "<Figure size 640x480 with 1 Axes>"
      ]
     },
     "metadata": {},
     "output_type": "display_data"
    }
   ],
   "source": [
    "n_sample = 60 * 24 * 100\n",
    "\n",
    "cs = pd.DataFrame(df_1min['log_ret'][:n_sample], columns = ['log_ret'])\n",
    "cs['cum_sum'] = cs['log_ret']\n",
    "cs['cum_sum'] = cs['cum_sum'].cumsum()\n",
    "\n",
    "cs['log_ret'].plot()\n",
    "cs['cum_sum'].plot()"
   ]
  },
  {
   "cell_type": "code",
   "execution_count": 4,
   "id": "fa398c35",
   "metadata": {},
   "outputs": [
    {
     "data": {
      "text/html": [
       "<div>\n",
       "<style scoped>\n",
       "    .dataframe tbody tr th:only-of-type {\n",
       "        vertical-align: middle;\n",
       "    }\n",
       "\n",
       "    .dataframe tbody tr th {\n",
       "        vertical-align: top;\n",
       "    }\n",
       "\n",
       "    .dataframe thead th {\n",
       "        text-align: right;\n",
       "    }\n",
       "</style>\n",
       "<table border=\"1\" class=\"dataframe\">\n",
       "  <thead>\n",
       "    <tr style=\"text-align: right;\">\n",
       "      <th></th>\n",
       "      <th>log_ret</th>\n",
       "      <th>cum_sum</th>\n",
       "    </tr>\n",
       "    <tr>\n",
       "      <th>Time</th>\n",
       "      <th></th>\n",
       "      <th></th>\n",
       "    </tr>\n",
       "  </thead>\n",
       "  <tbody>\n",
       "    <tr>\n",
       "      <th>2020-12-01 00:01:00</th>\n",
       "      <td>1.932292</td>\n",
       "      <td>1.932292</td>\n",
       "    </tr>\n",
       "    <tr>\n",
       "      <th>2020-12-01 00:02:00</th>\n",
       "      <td>0.796346</td>\n",
       "      <td>2.728638</td>\n",
       "    </tr>\n",
       "    <tr>\n",
       "      <th>2020-12-01 00:03:00</th>\n",
       "      <td>-1.070019</td>\n",
       "      <td>1.658619</td>\n",
       "    </tr>\n",
       "    <tr>\n",
       "      <th>2020-12-01 00:04:00</th>\n",
       "      <td>-0.273681</td>\n",
       "      <td>1.384938</td>\n",
       "    </tr>\n",
       "    <tr>\n",
       "      <th>2020-12-01 00:05:00</th>\n",
       "      <td>-1.494428</td>\n",
       "      <td>-0.109489</td>\n",
       "    </tr>\n",
       "    <tr>\n",
       "      <th>...</th>\n",
       "      <td>...</td>\n",
       "      <td>...</td>\n",
       "    </tr>\n",
       "    <tr>\n",
       "      <th>2021-05-11 15:56:00</th>\n",
       "      <td>10.282824</td>\n",
       "      <td>1007.360238</td>\n",
       "    </tr>\n",
       "    <tr>\n",
       "      <th>2021-05-11 15:57:00</th>\n",
       "      <td>0.599867</td>\n",
       "      <td>1007.960105</td>\n",
       "    </tr>\n",
       "    <tr>\n",
       "      <th>2021-05-11 15:58:00</th>\n",
       "      <td>1.657275</td>\n",
       "      <td>1009.617380</td>\n",
       "    </tr>\n",
       "    <tr>\n",
       "      <th>2021-05-11 15:59:00</th>\n",
       "      <td>0.014452</td>\n",
       "      <td>1009.631832</td>\n",
       "    </tr>\n",
       "    <tr>\n",
       "      <th>2021-05-11 16:00:00</th>\n",
       "      <td>10.132778</td>\n",
       "      <td>1019.764610</td>\n",
       "    </tr>\n",
       "  </tbody>\n",
       "</table>\n",
       "<p>144000 rows × 2 columns</p>\n",
       "</div>"
      ],
      "text/plain": [
       "                       log_ret      cum_sum\n",
       "Time                                       \n",
       "2020-12-01 00:01:00   1.932292     1.932292\n",
       "2020-12-01 00:02:00   0.796346     2.728638\n",
       "2020-12-01 00:03:00  -1.070019     1.658619\n",
       "2020-12-01 00:04:00  -0.273681     1.384938\n",
       "2020-12-01 00:05:00  -1.494428    -0.109489\n",
       "...                        ...          ...\n",
       "2021-05-11 15:56:00  10.282824  1007.360238\n",
       "2021-05-11 15:57:00   0.599867  1007.960105\n",
       "2021-05-11 15:58:00   1.657275  1009.617380\n",
       "2021-05-11 15:59:00   0.014452  1009.631832\n",
       "2021-05-11 16:00:00  10.132778  1019.764610\n",
       "\n",
       "[144000 rows x 2 columns]"
      ]
     },
     "execution_count": 4,
     "metadata": {},
     "output_type": "execute_result"
    }
   ],
   "source": [
    "cs"
   ]
  },
  {
   "cell_type": "code",
   "execution_count": 5,
   "id": "19e4430d",
   "metadata": {
    "scrolled": true
   },
   "outputs": [
    {
     "name": "stdout",
     "output_type": "stream",
     "text": [
      "Total epochs is 50 \n",
      "\n",
      "Epoch 1: q is 2, lag is 3, F_q(n) is 0.7667537428140289,     time spent is 19 sec(s)\n",
      "Epoch 2: q is 2, lag is 4, F_q(n) is 0.8321248722044918,     time spent is 19 sec(s)\n",
      "Epoch 3: q is 2, lag is 5, F_q(n) is 0.8651951467271677,     time spent is 19 sec(s)\n",
      "Epoch 4: q is 2, lag is 6, F_q(n) is 0.8964912362524614,     time spent is 19 sec(s)\n",
      "Epoch 5: q is 2, lag is 7, F_q(n) is 0.9117006821239737,     time spent is 19 sec(s)\n",
      "Epoch 6: q is 2, lag is 8, F_q(n) is 0.9172830198178245,     time spent is 19 sec(s)\n",
      "Epoch 7: q is 2, lag is 9, F_q(n) is 0.9268206913086224,     time spent is 19 sec(s)\n",
      "Epoch 8: q is 2, lag is 10, F_q(n) is 0.9310396884217265,     time spent is 19 sec(s)\n",
      "Epoch 9: q is 2, lag is 11, F_q(n) is 0.9399279441279594,     time spent is 19 sec(s)\n",
      "Epoch 10: q is 2, lag is 12, F_q(n) is 0.9506340554966954,     time spent is 19 sec(s)\n",
      "Epoch 11: q is 2, lag is 14, F_q(n) is 0.9403379411215751,     time spent is 19 sec(s)\n",
      "Epoch 12: q is 2, lag is 16, F_q(n) is 0.9534893000382013,     time spent is 19 sec(s)\n",
      "Epoch 13: q is 2, lag is 18, F_q(n) is 0.9450825651894806,     time spent is 19 sec(s)\n",
      "Epoch 14: q is 2, lag is 20, F_q(n) is 0.9575154484807358,     time spent is 19 sec(s)\n",
      "Epoch 15: q is 2, lag is 23, F_q(n) is 0.9594532204562176,     time spent is 19 sec(s)\n",
      "Epoch 16: q is 2, lag is 26, F_q(n) is 0.9647709260358138,     time spent is 19 sec(s)\n",
      "Epoch 17: q is 2, lag is 29, F_q(n) is 0.9604801378479266,     time spent is 19 sec(s)\n",
      "Epoch 18: q is 2, lag is 33, F_q(n) is 0.9683543165710237,     time spent is 19 sec(s)\n",
      "Epoch 19: q is 2, lag is 37, F_q(n) is 0.9668899697706399,     time spent is 19 sec(s)\n",
      "Epoch 20: q is 2, lag is 41, F_q(n) is 0.9556061908064786,     time spent is 19 sec(s)\n",
      "Epoch 21: q is 2, lag is 47, F_q(n) is 0.9596950005737648,     time spent is 19 sec(s)\n",
      "Epoch 22: q is 2, lag is 53, F_q(n) is 0.977487376403014,     time spent is 19 sec(s)\n",
      "Epoch 23: q is 2, lag is 59, F_q(n) is 0.9904654503885693,     time spent is 19 sec(s)\n",
      "Epoch 24: q is 2, lag is 67, F_q(n) is 0.9779193606312915,     time spent is 19 sec(s)\n",
      "Epoch 25: q is 2, lag is 75, F_q(n) is 0.9760440669125046,     time spent is 19 sec(s)\n",
      "Epoch 26: q is 2, lag is 84, F_q(n) is 0.9706425620940761,     time spent is 19 sec(s)\n",
      "Epoch 27: q is 2, lag is 95, F_q(n) is 0.9757058967078011,     time spent is 19 sec(s)\n",
      "Epoch 28: q is 2, lag is 107, F_q(n) is 0.9766249915041723,     time spent is 19 sec(s)\n",
      "Epoch 29: q is 2, lag is 120, F_q(n) is 0.9888739541570754,     time spent is 19 sec(s)\n",
      "Epoch 30: q is 2, lag is 135, F_q(n) is 0.9596056959704096,     time spent is 19 sec(s)\n",
      "Epoch 31: q is 2, lag is 152, F_q(n) is 1.0071800906991528,     time spent is 19 sec(s)\n",
      "Epoch 32: q is 2, lag is 171, F_q(n) is 0.9732601593303429,     time spent is 20 sec(s)\n",
      "Epoch 33: q is 2, lag is 193, F_q(n) is 0.9835166983177585,     time spent is 19 sec(s)\n",
      "Epoch 34: q is 2, lag is 217, F_q(n) is 1.0052894973851247,     time spent is 19 sec(s)\n",
      "Epoch 35: q is 2, lag is 244, F_q(n) is 0.9951159629944664,     time spent is 19 sec(s)\n",
      "Epoch 36: q is 2, lag is 274, F_q(n) is 1.0165860262578001,     time spent is 19 sec(s)\n",
      "Epoch 37: q is 2, lag is 308, F_q(n) is 0.9990074499618752,     time spent is 19 sec(s)\n",
      "Epoch 38: q is 2, lag is 347, F_q(n) is 0.9771809388021936,     time spent is 19 sec(s)\n",
      "Epoch 39: q is 2, lag is 390, F_q(n) is 0.9862330800613904,     time spent is 19 sec(s)\n",
      "Epoch 40: q is 2, lag is 439, F_q(n) is 0.9768740526908777,     time spent is 20 sec(s)\n",
      "Epoch 41: q is 2, lag is 494, F_q(n) is 0.9866299131684773,     time spent is 19 sec(s)\n",
      "Epoch 42: q is 2, lag is 555, F_q(n) is 1.0428729160871195,     time spent is 19 sec(s)\n",
      "Epoch 43: q is 2, lag is 625, F_q(n) is 0.9874553003950288,     time spent is 19 sec(s)\n",
      "Epoch 44: q is 2, lag is 702, F_q(n) is 0.9931956229127809,     time spent is 19 sec(s)\n",
      "Epoch 45: q is 2, lag is 790, F_q(n) is 0.9469779780136686,     time spent is 19 sec(s)\n",
      "Epoch 46: q is 2, lag is 889, F_q(n) is 0.9713953380972751,     time spent is 19 sec(s)\n",
      "Epoch 47: q is 2, lag is 1000, F_q(n) is 0.9659093117898616,     time spent is 19 sec(s)\n",
      "\n",
      " F is [0.7667537428140289, 0.8321248722044918, 0.8651951467271677, 0.8964912362524614, 0.9117006821239737, 0.9172830198178245, 0.9268206913086224, 0.9310396884217265, 0.9399279441279594, 0.9506340554966954, 0.9403379411215751, 0.9534893000382013, 0.9450825651894806, 0.9575154484807358, 0.9594532204562176, 0.9647709260358138, 0.9604801378479266, 0.9683543165710237, 0.9668899697706399, 0.9556061908064786, 0.9596950005737648, 0.977487376403014, 0.9904654503885693, 0.9779193606312915, 0.9760440669125046, 0.9706425620940761, 0.9757058967078011, 0.9766249915041723, 0.9888739541570754, 0.9596056959704096, 1.0071800906991528, 0.9732601593303429, 0.9835166983177585, 1.0052894973851247, 0.9951159629944664, 1.0165860262578001, 0.9990074499618752, 0.9771809388021936, 0.9862330800613904, 0.9768740526908777, 0.9866299131684773, 1.0428729160871195, 0.9874553003950288, 0.9931956229127809, 0.9469779780136686, 0.9713953380972751, 0.9659093117898616] \n",
      " Total time spent is:       15 min 14 sec\n"
     ]
    }
   ],
   "source": [
    "total_epoch = 50\n",
    "lags = np.unique(np.logspace(0.5, 3, total_epoch).astype(int))\n",
    "len_total = len(cs['cum_sum'])\n",
    "q = 2\n",
    "\n",
    "starttime_total = time.time()\n",
    "\n",
    "F = []\n",
    "len_total = len(cs['cum_sum'])\n",
    "epoch = 1\n",
    "\n",
    "print(f'Total epochs is {total_epoch}', '\\n')\n",
    "for lag in lags:\n",
    "    starttime_epoch = time.time()\n",
    "    mean_temp = []\n",
    "    \n",
    "    \n",
    "    # Calculate moving average\n",
    "    for i in range(len(cs['cum_sum'])-lag+1):\n",
    "        mean_temp.append(np.mean(cs['cum_sum'][i:i+lag]))\n",
    "    mean_temp.reverse()\n",
    "    \n",
    "    # Detrend\n",
    "    diff_temp_subtractor = cs['cum_sum'][:lag-2:-1].values\n",
    "    diff_temp = np.subtract(np.array(mean_temp), diff_temp_subtractor)\n",
    "    \n",
    "    # Slice into non-overlapping segments\n",
    "    segs_temp = pd.DataFrame(np.resize(diff_temp, (len(diff_temp) // lag, lag))).T\n",
    "\n",
    "    # Calculate fluctuation variance\n",
    "    F_seg_sq_temp = np.array(np.var(segs_temp).mean(axis=0)) \n",
    "    \n",
    "    # Calculate the qth order fluctuation function\n",
    "    F_temp =  ((1 / lag) * (F_seg_sq_temp ** (q / 2)).sum()) ** (1 / q)\n",
    "    \n",
    "    F.append(F_temp)    \n",
    "    \n",
    "    endtime_epoch = time.time()\n",
    "    print(f'Epoch {epoch}: q is {q}, lag is {lag}, F_q(n) is {F_temp}, \\\n",
    "    time spent is {int(endtime_epoch-starttime_epoch)} sec(s)')\n",
    "    epoch += 1\n",
    "    \n",
    "endtime_total = time.time()\n",
    "total_time = endtime_total - starttime_total\n",
    "\n",
    "print('\\n', f'F is {F}', '\\n', f'Total time spent is: \\\n",
    "      {int(total_time // 60)} min {int(total_time % 60)} sec') "
   ]
  },
  {
   "cell_type": "code",
   "execution_count": 6,
   "id": "2b54a723",
   "metadata": {},
   "outputs": [
    {
     "name": "stdout",
     "output_type": "stream",
     "text": [
      "The estimated Hurst exponent is 0.022610854906110926\n"
     ]
    }
   ],
   "source": [
    "log10_lag = np.log10(lags)\n",
    "log10_F = np.log10(F) \n",
    "hurst_hat = np.polyfit(log10_lag, log10_F, 1)[0]\n",
    "print(f'The estimated Hurst exponent is {hurst_hat}')"
   ]
  },
  {
   "cell_type": "code",
   "execution_count": 7,
   "id": "c56e71d9",
   "metadata": {},
   "outputs": [
    {
     "data": {
      "image/png": "[encoded data removed]",
      "text/plain": [
       "<Figure size 640x480 with 1 Axes>"
      ]
     },
     "metadata": {},
     "output_type": "display_data"
    }
   ],
   "source": [
    "plt.loglog(lags, F, marker=\"o\", markersize=3, markeredgecolor=\"red\", markerfacecolor=\"green\")\n",
    "plt.xlabel('Log_s')\n",
    "plt.ylabel('Log_F(s)')\n",
    "plt.title('Log-spaced Scales')\n",
    "plt.show()"
   ]
  },
  {
   "cell_type": "code",
   "execution_count": null,
   "id": "d091ea8b",
   "metadata": {},
   "outputs": [],
   "source": []
  },
  {
   "cell_type": "code",
   "execution_count": null,
   "id": "3b8c1eec",
   "metadata": {},
   "outputs": [],
   "source": []
  },
  {
   "cell_type": "code",
   "execution_count": null,
   "id": "80c6cb0c",
   "metadata": {},
   "outputs": [],
   "source": []
  },
  {
   "cell_type": "code",
   "execution_count": null,
   "id": "d93ed612",
   "metadata": {},
   "outputs": [],
   "source": []
  },
  {
   "cell_type": "code",
   "execution_count": null,
   "id": "600f28fb",
   "metadata": {},
   "outputs": [],
   "source": []
  },
  {
   "cell_type": "code",
   "execution_count": null,
   "id": "ff8bbfb2",
   "metadata": {},
   "outputs": [],
   "source": []
  },
  {
   "cell_type": "code",
   "execution_count": null,
   "id": "6cbd2a47",
   "metadata": {},
   "outputs": [],
   "source": []
  }
 ],
 "metadata": {
  "kernelspec": {
   "display_name": "Python 3 (ipykernel)",
   "language": "python",
   "name": "python3"
  },
  "language_info": {
   "codemirror_mode": {
    "name": "ipython",
    "version": 3
   },
   "file_extension": ".py",
   "mimetype": "text/x-python",
   "name": "python",
   "nbconvert_exporter": "python",
   "pygments_lexer": "ipython3",
   "version": "3.8.13"
  }
 },
 "nbformat": 4,
 "nbformat_minor": 5
}
