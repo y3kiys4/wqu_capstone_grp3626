{
 "cells": [
  {
   "cell_type": "markdown",
   "id": "6c0e7498",
   "metadata": {},
   "source": [
    "# Multifractal Detrended Moving Average (MF-DMA) Module"
   ]
  },
  {
   "cell_type": "markdown",
   "id": "da5d13da",
   "metadata": {},
   "source": [
    "Reference:\n",
    "\n",
    "Gu, Gao-Feng Gu, and Wei-Xing Zhou. \"Detrending moving average algorithm for multifractals.\" Physical Review E, no. 82, 2010, pp. 011136,\n",
    "\n",
    "Arianos, Sergio, and Anna Carbone. \"Detrending moving average algorithm: A closed-form approximation of the scaling law.\" Physica A, no. 382, 2007, pp. 9–15"
   ]
  },
  {
   "cell_type": "code",
   "execution_count": 1,
   "id": "46de6324",
   "metadata": {},
   "outputs": [],
   "source": [
    "import array\n",
    "import pandas as pd\n",
    "import numpy as np\n",
    "import matplotlib.pyplot as plt\n",
    "import time"
   ]
  },
  {
   "cell_type": "code",
   "execution_count": 2,
   "id": "91996ca8",
   "metadata": {
    "scrolled": true
   },
   "outputs": [
    {
     "name": "stderr",
     "output_type": "stream",
     "text": [
      "C:\\Users\\cutef\\AppData\\Local\\Temp\\ipykernel_7120\\374198705.py:18: SettingWithCopyWarning: \n",
      "A value is trying to be set on a copy of a slice from a DataFrame.\n",
      "Try using .loc[row_indexer,col_indexer] = value instead\n",
      "\n",
      "See the caveats in the documentation: https://pandas.pydata.org/pandas-docs/stable/user_guide/indexing.html#returning-a-view-versus-a-copy\n",
      "  df_1min['log_ret_sq'] = np.square(df_1min['log_ret'])\n"
     ]
    },
    {
     "data": {
      "text/html": [
       "<div>\n",
       "<style scoped>\n",
       "    .dataframe tbody tr th:only-of-type {\n",
       "        vertical-align: middle;\n",
       "    }\n",
       "\n",
       "    .dataframe tbody tr th {\n",
       "        vertical-align: top;\n",
       "    }\n",
       "\n",
       "    .dataframe thead th {\n",
       "        text-align: right;\n",
       "    }\n",
       "</style>\n",
       "<table border=\"1\" class=\"dataframe\">\n",
       "  <thead>\n",
       "    <tr style=\"text-align: right;\">\n",
       "      <th></th>\n",
       "      <th>Price</th>\n",
       "      <th>log_ret</th>\n",
       "      <th>deltaT</th>\n",
       "      <th>log_ret_sq</th>\n",
       "    </tr>\n",
       "    <tr>\n",
       "      <th>Time</th>\n",
       "      <th></th>\n",
       "      <th></th>\n",
       "      <th></th>\n",
       "      <th></th>\n",
       "    </tr>\n",
       "  </thead>\n",
       "  <tbody>\n",
       "    <tr>\n",
       "      <th>2020-12-01 00:01:00</th>\n",
       "      <td>3654.045</td>\n",
       "      <td>1.932292</td>\n",
       "      <td>1.0</td>\n",
       "      <td>3.733753</td>\n",
       "    </tr>\n",
       "    <tr>\n",
       "      <th>2020-12-01 00:02:00</th>\n",
       "      <td>3654.336</td>\n",
       "      <td>0.796346</td>\n",
       "      <td>1.0</td>\n",
       "      <td>0.634167</td>\n",
       "    </tr>\n",
       "    <tr>\n",
       "      <th>2020-12-01 00:03:00</th>\n",
       "      <td>3653.945</td>\n",
       "      <td>-1.070019</td>\n",
       "      <td>1.0</td>\n",
       "      <td>1.144941</td>\n",
       "    </tr>\n",
       "    <tr>\n",
       "      <th>2020-12-01 00:04:00</th>\n",
       "      <td>3653.845</td>\n",
       "      <td>-0.273681</td>\n",
       "      <td>1.0</td>\n",
       "      <td>0.074901</td>\n",
       "    </tr>\n",
       "    <tr>\n",
       "      <th>2020-12-01 00:05:00</th>\n",
       "      <td>3653.299</td>\n",
       "      <td>-1.494428</td>\n",
       "      <td>1.0</td>\n",
       "      <td>2.233315</td>\n",
       "    </tr>\n",
       "    <tr>\n",
       "      <th>...</th>\n",
       "      <td>...</td>\n",
       "      <td>...</td>\n",
       "      <td>...</td>\n",
       "      <td>...</td>\n",
       "    </tr>\n",
       "    <tr>\n",
       "      <th>2023-06-30 16:09:00</th>\n",
       "      <td>4446.311</td>\n",
       "      <td>-1.171689</td>\n",
       "      <td>1.0</td>\n",
       "      <td>1.372856</td>\n",
       "    </tr>\n",
       "    <tr>\n",
       "      <th>2023-06-30 16:10:00</th>\n",
       "      <td>4445.570</td>\n",
       "      <td>-1.666689</td>\n",
       "      <td>1.0</td>\n",
       "      <td>2.777852</td>\n",
       "    </tr>\n",
       "    <tr>\n",
       "      <th>2023-06-30 16:11:00</th>\n",
       "      <td>4445.332</td>\n",
       "      <td>-0.535379</td>\n",
       "      <td>1.0</td>\n",
       "      <td>0.286630</td>\n",
       "    </tr>\n",
       "    <tr>\n",
       "      <th>2023-06-30 16:12:00</th>\n",
       "      <td>4445.320</td>\n",
       "      <td>-0.026995</td>\n",
       "      <td>1.0</td>\n",
       "      <td>0.000729</td>\n",
       "    </tr>\n",
       "    <tr>\n",
       "      <th>2023-06-30 16:13:00</th>\n",
       "      <td>4444.823</td>\n",
       "      <td>-1.118092</td>\n",
       "      <td>1.0</td>\n",
       "      <td>1.250130</td>\n",
       "    </tr>\n",
       "  </tbody>\n",
       "</table>\n",
       "<p>824645 rows × 4 columns</p>\n",
       "</div>"
      ],
      "text/plain": [
       "                        Price   log_ret  deltaT  log_ret_sq\n",
       "Time                                                       \n",
       "2020-12-01 00:01:00  3654.045  1.932292     1.0    3.733753\n",
       "2020-12-01 00:02:00  3654.336  0.796346     1.0    0.634167\n",
       "2020-12-01 00:03:00  3653.945 -1.070019     1.0    1.144941\n",
       "2020-12-01 00:04:00  3653.845 -0.273681     1.0    0.074901\n",
       "2020-12-01 00:05:00  3653.299 -1.494428     1.0    2.233315\n",
       "...                       ...       ...     ...         ...\n",
       "2023-06-30 16:09:00  4446.311 -1.171689     1.0    1.372856\n",
       "2023-06-30 16:10:00  4445.570 -1.666689     1.0    2.777852\n",
       "2023-06-30 16:11:00  4445.332 -0.535379     1.0    0.286630\n",
       "2023-06-30 16:12:00  4445.320 -0.026995     1.0    0.000729\n",
       "2023-06-30 16:13:00  4444.823 -1.118092     1.0    1.250130\n",
       "\n",
       "[824645 rows x 4 columns]"
      ]
     },
     "execution_count": 2,
     "metadata": {},
     "output_type": "execute_result"
    }
   ],
   "source": [
    "files = 'https://raw.githubusercontent.com/y3kiys4/wqu_capstone_june2023_grp3626/main/SPX_1m_Dec2020_Jun2023.csv'\n",
    "\n",
    "df = pd.read_csv(files)\n",
    "# Set timestamp as index\n",
    "df = df.set_index(df['Time'])\n",
    "df.drop(['Time'], axis=1, inplace=True)\n",
    "df.index = pd.to_datetime(df.index)\n",
    "\n",
    "# Calculate log return\n",
    "df['log_ret'] = 10000 * np.log(df.Price).diff() # 10,000 times log return\n",
    "\n",
    "# Calculate the time difference in mininutes\n",
    "df['deltaT'] = (df.index.to_series().diff().dt.days.mul(60*24, fill_value=0) +\n",
    "                df.index.to_series().diff().dt.seconds.div(60, fill_value=0)\n",
    "               )\n",
    "\n",
    "df_1min = df[df['deltaT'] == 1]\n",
    "df_1min['log_ret_sq'] = np.square(df_1min['log_ret'])\n",
    "df_1min"
   ]
  },
  {
   "cell_type": "markdown",
   "id": "30f8172c",
   "metadata": {},
   "source": [
    "## 1. Construct the sequence of cumulative sums"
   ]
  },
  {
   "cell_type": "code",
   "execution_count": 3,
   "id": "e2147727",
   "metadata": {},
   "outputs": [
    {
     "data": {
      "text/plain": [
       "<AxesSubplot:xlabel='Time'>"
      ]
     },
     "execution_count": 3,
     "metadata": {},
     "output_type": "execute_result"
    },
    {
     "data": {
      "image/png": "[encoded data removed]",
      "text/plain": [
       "<Figure size 640x480 with 1 Axes>"
      ]
     },
     "metadata": {},
     "output_type": "display_data"
    }
   ],
   "source": [
    "n_sample = 60 * 24 * 100\n",
    "\n",
    "cs = pd.DataFrame(df_1min['log_ret'][:n_sample], columns = ['log_ret'])\n",
    "cs['cum_sum'] = cs['log_ret']\n",
    "cs['cum_sum'] = cs['cum_sum'].cumsum()\n",
    "\n",
    "cs['log_ret'].plot()\n",
    "cs['cum_sum'].plot()"
   ]
  },
  {
   "cell_type": "code",
   "execution_count": 4,
   "id": "fa398c35",
   "metadata": {},
   "outputs": [
    {
     "data": {
      "text/html": [
       "<div>\n",
       "<style scoped>\n",
       "    .dataframe tbody tr th:only-of-type {\n",
       "        vertical-align: middle;\n",
       "    }\n",
       "\n",
       "    .dataframe tbody tr th {\n",
       "        vertical-align: top;\n",
       "    }\n",
       "\n",
       "    .dataframe thead th {\n",
       "        text-align: right;\n",
       "    }\n",
       "</style>\n",
       "<table border=\"1\" class=\"dataframe\">\n",
       "  <thead>\n",
       "    <tr style=\"text-align: right;\">\n",
       "      <th></th>\n",
       "      <th>log_ret</th>\n",
       "      <th>cum_sum</th>\n",
       "    </tr>\n",
       "    <tr>\n",
       "      <th>Time</th>\n",
       "      <th></th>\n",
       "      <th></th>\n",
       "    </tr>\n",
       "  </thead>\n",
       "  <tbody>\n",
       "    <tr>\n",
       "      <th>2020-12-01 00:01:00</th>\n",
       "      <td>1.932292</td>\n",
       "      <td>1.932292</td>\n",
       "    </tr>\n",
       "    <tr>\n",
       "      <th>2020-12-01 00:02:00</th>\n",
       "      <td>0.796346</td>\n",
       "      <td>2.728638</td>\n",
       "    </tr>\n",
       "    <tr>\n",
       "      <th>2020-12-01 00:03:00</th>\n",
       "      <td>-1.070019</td>\n",
       "      <td>1.658619</td>\n",
       "    </tr>\n",
       "    <tr>\n",
       "      <th>2020-12-01 00:04:00</th>\n",
       "      <td>-0.273681</td>\n",
       "      <td>1.384938</td>\n",
       "    </tr>\n",
       "    <tr>\n",
       "      <th>2020-12-01 00:05:00</th>\n",
       "      <td>-1.494428</td>\n",
       "      <td>-0.109489</td>\n",
       "    </tr>\n",
       "    <tr>\n",
       "      <th>...</th>\n",
       "      <td>...</td>\n",
       "      <td>...</td>\n",
       "    </tr>\n",
       "    <tr>\n",
       "      <th>2021-05-11 15:56:00</th>\n",
       "      <td>10.282824</td>\n",
       "      <td>1007.360238</td>\n",
       "    </tr>\n",
       "    <tr>\n",
       "      <th>2021-05-11 15:57:00</th>\n",
       "      <td>0.599867</td>\n",
       "      <td>1007.960105</td>\n",
       "    </tr>\n",
       "    <tr>\n",
       "      <th>2021-05-11 15:58:00</th>\n",
       "      <td>1.657275</td>\n",
       "      <td>1009.617380</td>\n",
       "    </tr>\n",
       "    <tr>\n",
       "      <th>2021-05-11 15:59:00</th>\n",
       "      <td>0.014452</td>\n",
       "      <td>1009.631832</td>\n",
       "    </tr>\n",
       "    <tr>\n",
       "      <th>2021-05-11 16:00:00</th>\n",
       "      <td>10.132778</td>\n",
       "      <td>1019.764610</td>\n",
       "    </tr>\n",
       "  </tbody>\n",
       "</table>\n",
       "<p>144000 rows × 2 columns</p>\n",
       "</div>"
      ],
      "text/plain": [
       "                       log_ret      cum_sum\n",
       "Time                                       \n",
       "2020-12-01 00:01:00   1.932292     1.932292\n",
       "2020-12-01 00:02:00   0.796346     2.728638\n",
       "2020-12-01 00:03:00  -1.070019     1.658619\n",
       "2020-12-01 00:04:00  -0.273681     1.384938\n",
       "2020-12-01 00:05:00  -1.494428    -0.109489\n",
       "...                        ...          ...\n",
       "2021-05-11 15:56:00  10.282824  1007.360238\n",
       "2021-05-11 15:57:00   0.599867  1007.960105\n",
       "2021-05-11 15:58:00   1.657275  1009.617380\n",
       "2021-05-11 15:59:00   0.014452  1009.631832\n",
       "2021-05-11 16:00:00  10.132778  1019.764610\n",
       "\n",
       "[144000 rows x 2 columns]"
      ]
     },
     "execution_count": 4,
     "metadata": {},
     "output_type": "execute_result"
    }
   ],
   "source": [
    "cs"
   ]
  },
  {
   "cell_type": "code",
   "execution_count": null,
   "id": "a9ab1a4a",
   "metadata": {},
   "outputs": [],
   "source": []
  },
  {
   "cell_type": "code",
   "execution_count": null,
   "id": "3a5965b8",
   "metadata": {},
   "outputs": [],
   "source": []
  },
  {
   "cell_type": "code",
   "execution_count": null,
   "id": "cf44ab43",
   "metadata": {},
   "outputs": [],
   "source": []
  },
  {
   "cell_type": "code",
   "execution_count": 46,
   "id": "6ec38124",
   "metadata": {
    "scrolled": true
   },
   "outputs": [
    {
     "name": "stdout",
     "output_type": "stream",
     "text": [
      "Total epochs is 50 \n",
      "\n",
      "Epoch 1: q is 2, lag is 3, F_q(n) is 0.004147605499962632,     time spent is 19 sec(s)\n",
      "Epoch 2: q is 2, lag is 4, F_q(n) is 0.004403128285365093,     time spent is 19 sec(s)\n",
      "Epoch 3: q is 2, lag is 5, F_q(n) is 0.004700884585576907,     time spent is 19 sec(s)\n",
      "Epoch 4: q is 2, lag is 6, F_q(n) is 0.005003978989787774,     time spent is 19 sec(s)\n",
      "Epoch 5: q is 2, lag is 7, F_q(n) is 0.0053007701028528935,     time spent is 19 sec(s)\n",
      "Epoch 6: q is 2, lag is 8, F_q(n) is 0.005589845281211101,     time spent is 19 sec(s)\n",
      "Epoch 7: q is 2, lag is 10, F_q(n) is 0.006135586104513984,     time spent is 19 sec(s)\n",
      "Epoch 8: q is 2, lag is 11, F_q(n) is 0.006392498351364988,     time spent is 19 sec(s)\n",
      "Epoch 9: q is 2, lag is 13, F_q(n) is 0.006878210458908394,     time spent is 19 sec(s)\n",
      "Epoch 10: q is 2, lag is 16, F_q(n) is 0.007549552491620384,     time spent is 20 sec(s)\n",
      "Epoch 11: q is 2, lag is 19, F_q(n) is 0.008165663022713342,     time spent is 19 sec(s)\n",
      "Epoch 12: q is 2, lag is 22, F_q(n) is 0.008740928524744136,     time spent is 19 sec(s)\n",
      "Epoch 13: q is 2, lag is 26, F_q(n) is 0.00945154046462178,     time spent is 19 sec(s)\n",
      "Epoch 14: q is 2, lag is 31, F_q(n) is 0.010262154802932959,     time spent is 19 sec(s)\n",
      "Epoch 15: q is 2, lag is 37, F_q(n) is 0.011155645892283067,     time spent is 20 sec(s)\n",
      "Epoch 16: q is 2, lag is 43, F_q(n) is 0.01198111513091187,     time spent is 20 sec(s)\n",
      "Epoch 17: q is 2, lag is 51, F_q(n) is 0.012996519552675539,     time spent is 19 sec(s)\n",
      "Epoch 18: q is 2, lag is 61, F_q(n) is 0.014163556814308252,     time spent is 19 sec(s)\n",
      "Epoch 19: q is 2, lag is 71, F_q(n) is 0.01525033875704965,     time spent is 19 sec(s)\n",
      "Epoch 20: q is 2, lag is 84, F_q(n) is 0.01656329230821187,     time spent is 19 sec(s)\n",
      "Epoch 21: q is 2, lag is 100, F_q(n) is 0.018047418144225367,     time spent is 19 sec(s)\n",
      "Epoch 22: q is 2, lag is 117, F_q(n) is 0.01951376501361255,     time spent is 19 sec(s)\n",
      "Epoch 23: q is 2, lag is 138, F_q(n) is 0.02119383533258676,     time spent is 20 sec(s)\n",
      "Epoch 24: q is 2, lag is 163, F_q(n) is 0.023044663750095055,     time spent is 19 sec(s)\n",
      "Epoch 25: q is 2, lag is 193, F_q(n) is 0.025096737084914302,     time spent is 19 sec(s)\n",
      "Epoch 26: q is 2, lag is 227, F_q(n) is 0.02725475114507813,     time spent is 19 sec(s)\n",
      "Epoch 27: q is 2, lag is 268, F_q(n) is 0.02965427578523728,     time spent is 19 sec(s)\n",
      "Epoch 28: q is 2, lag is 316, F_q(n) is 0.03226983263182697,     time spent is 19 sec(s)\n",
      "Epoch 29: q is 2, lag is 372, F_q(n) is 0.035102463979996994,     time spent is 19 sec(s)\n",
      "Epoch 30: q is 2, lag is 439, F_q(n) is 0.03829772793103336,     time spent is 19 sec(s)\n",
      "Epoch 31: q is 2, lag is 517, F_q(n) is 0.04181303856690875,     time spent is 19 sec(s)\n",
      "Epoch 32: q is 2, lag is 610, F_q(n) is 0.04569887548984735,     time spent is 19 sec(s)\n",
      "Epoch 33: q is 2, lag is 719, F_q(n) is 0.049980338289640616,     time spent is 19 sec(s)\n",
      "Epoch 34: q is 2, lag is 848, F_q(n) is 0.05483427778366485,     time spent is 19 sec(s)\n",
      "Epoch 35: q is 2, lag is 1000, F_q(n) is 0.06009548437414731,     time spent is 19 sec(s)\n",
      "Epoch 36: q is 2, lag is 1178, F_q(n) is 0.06592442995193716,     time spent is 19 sec(s)\n",
      "Epoch 37: q is 2, lag is 1389, F_q(n) is 0.07216889247385476,     time spent is 19 sec(s)\n",
      "Epoch 38: q is 2, lag is 1637, F_q(n) is 0.07906477467666984,     time spent is 21 sec(s)\n",
      "Epoch 39: q is 2, lag is 1930, F_q(n) is 0.08696928115747653,     time spent is 19 sec(s)\n",
      "Epoch 40: q is 2, lag is 2275, F_q(n) is 0.09563509155269029,     time spent is 19 sec(s)\n",
      "Epoch 41: q is 2, lag is 2682, F_q(n) is 0.10510216771839903,     time spent is 20 sec(s)\n",
      "Epoch 42: q is 2, lag is 3162, F_q(n) is 0.11574434184116283,     time spent is 20 sec(s)\n",
      "Epoch 43: q is 2, lag is 3727, F_q(n) is 0.12757959794016088,     time spent is 20 sec(s)\n",
      "Epoch 44: q is 2, lag is 4393, F_q(n) is 0.14099990840639479,     time spent is 20 sec(s)\n",
      "Epoch 45: q is 2, lag is 5179, F_q(n) is 0.1563287352384133,     time spent is 20 sec(s)\n",
      "Epoch 46: q is 2, lag is 6105, F_q(n) is 0.1723869460831884,     time spent is 20 sec(s)\n",
      "Epoch 47: q is 2, lag is 7196, F_q(n) is 0.1883940481601625,     time spent is 20 sec(s)\n",
      "Epoch 48: q is 2, lag is 8483, F_q(n) is 0.21049545347880538,     time spent is 20 sec(s)\n",
      "Epoch 49: q is 2, lag is 10000, F_q(n) is 0.23179560788962222,     time spent is 21 sec(s)\n",
      "F is [0.004147605499962632, 0.004403128285365093, 0.004700884585576907, 0.005003978989787774, 0.0053007701028528935, 0.005589845281211101, 0.006135586104513984, 0.006392498351364988, 0.006878210458908394, 0.007549552491620384, 0.008165663022713342, 0.008740928524744136, 0.00945154046462178, 0.010262154802932959, 0.011155645892283067, 0.01198111513091187, 0.012996519552675539, 0.014163556814308252, 0.01525033875704965, 0.01656329230821187, 0.018047418144225367, 0.01951376501361255, 0.02119383533258676, 0.023044663750095055, 0.025096737084914302, 0.02725475114507813, 0.02965427578523728, 0.03226983263182697, 0.035102463979996994, 0.03829772793103336, 0.04181303856690875, 0.04569887548984735, 0.049980338289640616, 0.05483427778366485, 0.06009548437414731, 0.06592442995193716, 0.07216889247385476, 0.07906477467666984, 0.08696928115747653, 0.09563509155269029, 0.10510216771839903, 0.11574434184116283, 0.12757959794016088, 0.14099990840639479, 0.1563287352384133, 0.1723869460831884, 0.1883940481601625, 0.21049545347880538, 0.23179560788962222] \n",
      " Total time spent is:       16 min 11 sec\n"
     ]
    }
   ],
   "source": [
    "total_epoch = 50\n",
    "lags = np.unique(np.logspace(0.5, 4, total_epoch).astype(int))\n",
    "len_total = len(cs['cum_sum'])\n",
    "q = 2\n",
    "\n",
    "starttime_total = time.time()\n",
    "\n",
    "F = []\n",
    "len_total = len(cs['cum_sum'])\n",
    "epoch = 1\n",
    "\n",
    "print(f'Total epochs is {total_epoch}', '\\n')\n",
    "for lag in lags:\n",
    "    starttime_epoch = time.time()\n",
    "    mean_temp = []\n",
    "    \n",
    "    \n",
    "    # Calculate moving average\n",
    "    for i in range(len(cs['cum_sum'])-lag+1):\n",
    "        mean_temp.append(np.mean(cs['cum_sum'][i:i+lag]))\n",
    "    mean_temp.reverse()\n",
    "    \n",
    "    # Detrend\n",
    "    diff_temp_subtractor = cs['cum_sum'][:lag-2:-1].values\n",
    "    diff_temp = np.subtract(np.array(mean_temp), diff_temp_subtractor)\n",
    "    \n",
    "    # Slice into non-overlapping segments\n",
    "    segs_temp = pd.DataFrame(np.resize(diff_temp, (len(diff_temp) // lag, lag))).T\n",
    "\n",
    "    # Calculate fluctuation variance\n",
    "    F_seg_sq_temp = np.array((segs_temp ** 2).mean(axis=0)) \n",
    "    \n",
    "    # Calculate the qth order fluctuation function\n",
    "    F_temp = (1 / ((1 / lag) * (F_seg_sq_temp ** (q / 2)).sum()) ** (1 / q))\n",
    "    \n",
    "    F.append(F_temp)    \n",
    "    \n",
    "    endtime_epoch = time.time()\n",
    "#     print(f'Epoch {epoch}: q is {q}, n is {lags[-epoch]}, F_n is {F_temp}, \\\n",
    "#     Epoch time spent is {int(endtime_epoch-starttime_epoch)} sec')\n",
    "    print(f'Epoch {epoch}: q is {q}, lag is {lag}, F_q(n) is {F_temp}, \\\n",
    "    time spent is {int(endtime_epoch-starttime_epoch)} sec(s)')\n",
    "    epoch += 1\n",
    "    \n",
    "endtime_total = time.time()\n",
    "total_time = endtime_total - starttime_total\n",
    "\n",
    "print(f'F is {F}', '\\n', f'Total time spent is: \\\n",
    "      {int(total_time // 60)} min {int(total_time % 60)} sec') "
   ]
  },
  {
   "cell_type": "code",
   "execution_count": null,
   "id": "24042521",
   "metadata": {},
   "outputs": [],
   "source": []
  },
  {
   "cell_type": "code",
   "execution_count": 47,
   "id": "e907b914",
   "metadata": {},
   "outputs": [
    {
     "name": "stdout",
     "output_type": "stream",
     "text": [
      "The estimated Hurst exponent is 0.508233547628619\n"
     ]
    }
   ],
   "source": [
    "log10_lag = np.log10(lags)\n",
    "log10_F = np.log10(F) \n",
    "hurst_hat = np.polyfit(log10_lag, log10_F, 1)[0]\n",
    "print(f'The estimated Hurst exponent is {hurst_hat}')"
   ]
  },
  {
   "cell_type": "code",
   "execution_count": 48,
   "id": "ce8726c8",
   "metadata": {},
   "outputs": [
    {
     "data": {
      "text/plain": [
       "array([-0.04420498,  0.45067754])"
      ]
     },
     "execution_count": 48,
     "metadata": {},
     "output_type": "execute_result"
    }
   ],
   "source": [
    "fit"
   ]
  },
  {
   "cell_type": "code",
   "execution_count": 49,
   "id": "7de003dc",
   "metadata": {},
   "outputs": [
    {
     "data": {
      "image/png": "[encoded data removed]",
      "text/plain": [
       "<Figure size 640x480 with 1 Axes>"
      ]
     },
     "metadata": {},
     "output_type": "display_data"
    }
   ],
   "source": [
    "x_hurst = np.linspace(np.log10(lags.min()), np.log10(lags.max())+0.1, num=len(lags))\n",
    "y_hurst = fit[0] + hurst * x_hurst\n",
    "\n",
    "# plt.plot(log10_lag, log10_F, marker=\"o\", markersize=3, markeredgecolor=\"red\", markerfacecolor=\"green\")\n",
    "plt.plot(x_hurst, y_hurst)\n",
    "plt.loglog(lags, F, marker=\"o\", markersize=3, markeredgecolor=\"red\", markerfacecolor=\"green\")\n",
    "plt.xlabel('Log_n')\n",
    "plt.ylabel('Log_F(n)')\n",
    "plt.title('Log-spaced Scales')\n",
    "plt.show()"
   ]
  },
  {
   "cell_type": "code",
   "execution_count": null,
   "id": "5ece6af9",
   "metadata": {},
   "outputs": [],
   "source": []
  },
  {
   "cell_type": "code",
   "execution_count": null,
   "id": "4c13195d",
   "metadata": {},
   "outputs": [],
   "source": []
  },
  {
   "cell_type": "code",
   "execution_count": null,
   "id": "d70c44be",
   "metadata": {},
   "outputs": [],
   "source": []
  },
  {
   "cell_type": "code",
   "execution_count": null,
   "id": "3885f845",
   "metadata": {},
   "outputs": [],
   "source": []
  },
  {
   "cell_type": "code",
   "execution_count": null,
   "id": "c007e8e8",
   "metadata": {},
   "outputs": [],
   "source": []
  },
  {
   "cell_type": "code",
   "execution_count": null,
   "id": "dd80f904",
   "metadata": {},
   "outputs": [],
   "source": []
  },
  {
   "cell_type": "code",
   "execution_count": null,
   "id": "6cbd2a47",
   "metadata": {},
   "outputs": [],
   "source": []
  }
 ],
 "metadata": {
  "kernelspec": {
   "display_name": "Python 3 (ipykernel)",
   "language": "python",
   "name": "python3"
  },
  "language_info": {
   "codemirror_mode": {
    "name": "ipython",
    "version": 3
   },
   "file_extension": ".py",
   "mimetype": "text/x-python",
   "name": "python",
   "nbconvert_exporter": "python",
   "pygments_lexer": "ipython3",
   "version": "3.8.13"
  }
 },
 "nbformat": 4,
 "nbformat_minor": 5
}
